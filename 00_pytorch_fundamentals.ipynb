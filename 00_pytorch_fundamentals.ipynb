{
  "nbformat": 4,
  "nbformat_minor": 0,
  "metadata": {
    "colab": {
      "provenance": [],
      "gpuType": "T4",
      "toc_visible": true
    },
    "kernelspec": {
      "name": "python3",
      "display_name": "Python 3"
    },
    "language_info": {
      "name": "python"
    },
    "accelerator": "GPU"
  },
  "cells": [
    {
      "cell_type": "markdown",
      "source": [
        "# 0. Pytorch Fundamentals"
      ],
      "metadata": {
        "id": "HKQ2czfoJkCC"
      }
    },
    {
      "cell_type": "markdown",
      "source": [
        "Author: Alejandro Meza Tudela"
      ],
      "metadata": {
        "id": "NfDv_r_8UmKh"
      }
    },
    {
      "cell_type": "code",
      "source": [
        "import torch\n",
        "print(torch.__version__)"
      ],
      "metadata": {
        "colab": {
          "base_uri": "https://localhost:8080/"
        },
        "id": "BSyWyn1JKaCM",
        "outputId": "5b1779f6-fe68-46a5-f279-d2452540e5ff"
      },
      "execution_count": null,
      "outputs": [
        {
          "output_type": "stream",
          "name": "stdout",
          "text": [
            "2.3.0+cu121\n"
          ]
        }
      ]
    },
    {
      "cell_type": "code",
      "source": [
        "import pandas as pd\n",
        "import numpy as np\n",
        "import matplotlib.pyplot as plt\n",
        "print('Pandas', pd.__version__)\n",
        "print('Numpy', np.__version__)"
      ],
      "metadata": {
        "colab": {
          "base_uri": "https://localhost:8080/"
        },
        "id": "FS2lnemLKipI",
        "outputId": "5434c820-4604-4944-cc6a-9d80bc8a0a94"
      },
      "execution_count": null,
      "outputs": [
        {
          "output_type": "stream",
          "name": "stdout",
          "text": [
            "Pandas 2.0.3\n",
            "Numpy 1.25.2\n"
          ]
        }
      ]
    },
    {
      "cell_type": "code",
      "source": [
        "print('This is the start for learning Pytorch!')"
      ],
      "metadata": {
        "colab": {
          "base_uri": "https://localhost:8080/"
        },
        "id": "EI9t2YY8JkTV",
        "outputId": "e8f71c08-371e-4299-e0a6-a4e3cfa3c943"
      },
      "execution_count": null,
      "outputs": [
        {
          "output_type": "stream",
          "name": "stdout",
          "text": [
            "This is the start for learning Pytorch!\n"
          ]
        }
      ]
    },
    {
      "cell_type": "code",
      "source": [
        "!nvidia-smi #access the default GPU"
      ],
      "metadata": {
        "colab": {
          "base_uri": "https://localhost:8080/"
        },
        "id": "rBN3Pd3SJ25p",
        "outputId": "948dcb19-2a95-455f-c6f8-7aa3839f5021"
      },
      "execution_count": null,
      "outputs": [
        {
          "output_type": "stream",
          "name": "stdout",
          "text": [
            "/bin/bash: line 1: nvidia-smi: command not found\n"
          ]
        }
      ]
    },
    {
      "cell_type": "markdown",
      "source": [
        "## Introduction to tensors"
      ],
      "metadata": {
        "id": "DKimhRJfLbWT"
      }
    },
    {
      "cell_type": "markdown",
      "source": [
        "Form of representing multi-dimensional data for feeding our model"
      ],
      "metadata": {
        "id": "wQR5Bj0gLf74"
      }
    },
    {
      "cell_type": "code",
      "source": [
        "#scalar torch.tensor:allows to us to create tensors\n",
        "t1 = torch.tensor(4)\n",
        "t1"
      ],
      "metadata": {
        "colab": {
          "base_uri": "https://localhost:8080/"
        },
        "id": "yhWnBIAgJ6V5",
        "outputId": "4e38f2ec-26a4-4520-b5ca-74386820fe5e"
      },
      "execution_count": null,
      "outputs": [
        {
          "output_type": "execute_result",
          "data": {
            "text/plain": [
              "tensor(4)"
            ]
          },
          "metadata": {},
          "execution_count": 5
        }
      ]
    },
    {
      "cell_type": "code",
      "source": [
        "t1.ndim #dimensions"
      ],
      "metadata": {
        "colab": {
          "base_uri": "https://localhost:8080/"
        },
        "id": "vdnJGQWzMAp5",
        "outputId": "e8db95cc-d46e-4dd7-a84a-ee10163869e6"
      },
      "execution_count": null,
      "outputs": [
        {
          "output_type": "execute_result",
          "data": {
            "text/plain": [
              "0"
            ]
          },
          "metadata": {},
          "execution_count": 6
        }
      ]
    },
    {
      "cell_type": "code",
      "source": [
        "t1.item() #item"
      ],
      "metadata": {
        "colab": {
          "base_uri": "https://localhost:8080/"
        },
        "id": "iCgzNjXNMbOx",
        "outputId": "d3e47746-c6ca-4f06-d78c-72ac9264618a"
      },
      "execution_count": null,
      "outputs": [
        {
          "output_type": "execute_result",
          "data": {
            "text/plain": [
              "4"
            ]
          },
          "metadata": {},
          "execution_count": 7
        }
      ]
    },
    {
      "cell_type": "code",
      "source": [
        "#vector\n",
        "vector = torch.tensor([7,7])\n",
        "vector\n",
        "\n",
        "print(vector.ndim)\n",
        "print(vector.shape)"
      ],
      "metadata": {
        "colab": {
          "base_uri": "https://localhost:8080/"
        },
        "id": "p2pHjvC2MhRy",
        "outputId": "1395a481-feda-4a4f-da12-e39464b63cc8"
      },
      "execution_count": null,
      "outputs": [
        {
          "output_type": "stream",
          "name": "stdout",
          "text": [
            "1\n",
            "torch.Size([2])\n"
          ]
        }
      ]
    },
    {
      "cell_type": "code",
      "source": [
        "#matrix\n",
        "MATRIX = torch.tensor([[7,8],\n",
        "                       [9,10]])\n",
        "print (MATRIX)\n",
        "print(MATRIX.ndim)\n",
        "print(MATRIX.shape)\n",
        "\n",
        "print()\n",
        "print(MATRIX[0])\n",
        "print(MATRIX[1])"
      ],
      "metadata": {
        "colab": {
          "base_uri": "https://localhost:8080/"
        },
        "id": "hZeku20KM_4_",
        "outputId": "9d8244d6-e0d9-46e4-a94e-fc9960a12a22"
      },
      "execution_count": null,
      "outputs": [
        {
          "output_type": "stream",
          "name": "stdout",
          "text": [
            "tensor([[ 7,  8],\n",
            "        [ 9, 10]])\n",
            "2\n",
            "torch.Size([2, 2])\n",
            "\n",
            "tensor([7, 8])\n",
            "tensor([ 9, 10])\n"
          ]
        }
      ]
    },
    {
      "cell_type": "code",
      "source": [
        "#TENSOR\n",
        "TENSOR = torch.tensor([[[1,2,3],\n",
        "                        [3,6,9],\n",
        "                        [2,4,5]]])\n",
        "print(TENSOR)\n",
        "print(TENSOR.ndim)\n",
        "print(TENSOR.shape)\n",
        "\n",
        "#Meaning: is that we have only have 1 of 3x3 element inside the tensor--> something like a vector of matrix"
      ],
      "metadata": {
        "colab": {
          "base_uri": "https://localhost:8080/"
        },
        "id": "NglXQzpQN6Kt",
        "outputId": "5323049e-a4a0-47b6-b431-11881d9ccf85"
      },
      "execution_count": null,
      "outputs": [
        {
          "output_type": "stream",
          "name": "stdout",
          "text": [
            "tensor([[[1, 2, 3],\n",
            "         [3, 6, 9],\n",
            "         [2, 4, 5]]])\n",
            "3\n",
            "torch.Size([1, 3, 3])\n"
          ]
        }
      ]
    },
    {
      "cell_type": "code",
      "source": [
        "print(TENSOR[0])"
      ],
      "metadata": {
        "colab": {
          "base_uri": "https://localhost:8080/"
        },
        "id": "A7S8Ydl9Ohb4",
        "outputId": "ac6cd91a-56c9-482a-82ca-455242d00866"
      },
      "execution_count": null,
      "outputs": [
        {
          "output_type": "stream",
          "name": "stdout",
          "text": [
            "tensor([[1, 2, 3],\n",
            "        [3, 6, 9],\n",
            "        [2, 4, 5]])\n"
          ]
        }
      ]
    },
    {
      "cell_type": "code",
      "source": [
        "TENSOR = torch.tensor([[[1,2,3],\n",
        "                        [3,6,9],\n",
        "                        [2,4,5]],\n",
        "                       [[1,2,3],\n",
        "                        [3,6,9],\n",
        "                        [2,4,5]]])\n",
        "print(TENSOR)\n",
        "print(TENSOR.ndim)\n",
        "print(TENSOR.shape)"
      ],
      "metadata": {
        "colab": {
          "base_uri": "https://localhost:8080/"
        },
        "id": "Ncp26XzCPQZS",
        "outputId": "8e978278-8bba-40ed-b3f7-6329a1ee5d12"
      },
      "execution_count": null,
      "outputs": [
        {
          "output_type": "stream",
          "name": "stdout",
          "text": [
            "tensor([[[1, 2, 3],\n",
            "         [3, 6, 9],\n",
            "         [2, 4, 5]],\n",
            "\n",
            "        [[1, 2, 3],\n",
            "         [3, 6, 9],\n",
            "         [2, 4, 5]]])\n",
            "3\n",
            "torch.Size([2, 3, 3])\n"
          ]
        }
      ]
    },
    {
      "cell_type": "markdown",
      "source": [
        "### RANDOM TENSORS\n",
        "\n",
        "Why random tensors?\n",
        "\n",
        "Random tensors are very important because the way many NN learn is that they start with tensors full of random numbers, and then adjust these random numbers to better represent the data. For example, the weights of the Neural Network.\n",
        "\n",
        "- start with random numbers --> look at data --> update (repeat)"
      ],
      "metadata": {
        "id": "ORm7z6KIhbNT"
      }
    },
    {
      "cell_type": "code",
      "source": [
        "#random tensors\n",
        "RANDOM = torch.rand(3,4)\n",
        "print(RANDOM)\n",
        "print(RANDOM.ndim)\n",
        "print(RANDOM.shape)"
      ],
      "metadata": {
        "colab": {
          "base_uri": "https://localhost:8080/"
        },
        "id": "l_FsJykOhIqW",
        "outputId": "fedbb623-838f-4469-cb0b-86ff51f3fc2d"
      },
      "execution_count": null,
      "outputs": [
        {
          "output_type": "stream",
          "name": "stdout",
          "text": [
            "tensor([[0.1467, 0.4312, 0.6093, 0.5851],\n",
            "        [0.9111, 0.9241, 0.8137, 0.4633],\n",
            "        [0.8967, 0.0755, 0.0075, 0.4354]])\n",
            "2\n",
            "torch.Size([3, 4])\n"
          ]
        }
      ]
    },
    {
      "cell_type": "code",
      "source": [
        "RANDOM = torch.rand(1,3,4)\n",
        "print(RANDOM)\n",
        "print(RANDOM.ndim)\n",
        "print(RANDOM.shape)"
      ],
      "metadata": {
        "colab": {
          "base_uri": "https://localhost:8080/"
        },
        "id": "byO3bgjAiNdv",
        "outputId": "707aeac7-c4fd-46b2-ef51-9d18e9a91075"
      },
      "execution_count": null,
      "outputs": [
        {
          "output_type": "stream",
          "name": "stdout",
          "text": [
            "tensor([[[0.8474, 0.5247, 0.7848, 0.6762],\n",
            "         [0.5917, 0.1826, 0.0951, 0.3903],\n",
            "         [0.3798, 0.1769, 0.2182, 0.9823]]])\n",
            "3\n",
            "torch.Size([1, 3, 4])\n"
          ]
        }
      ]
    },
    {
      "cell_type": "markdown",
      "source": [
        "**Representation of images**"
      ],
      "metadata": {
        "id": "gqY2RRORjUM7"
      }
    },
    {
      "cell_type": "code",
      "source": [
        "#create a random tensor with similar size of an image\n",
        "RANDOM = torch.rand(size=(3,224,224)) #height, width, color channels (RGB)\n",
        "#print(RANDOM)\n",
        "print(RANDOM.ndim)\n",
        "print(RANDOM.shape)"
      ],
      "metadata": {
        "colab": {
          "base_uri": "https://localhost:8080/"
        },
        "id": "uLgcaKfrimwn",
        "outputId": "60cba555-954b-47c3-efe3-f0c3466d80ff"
      },
      "execution_count": null,
      "outputs": [
        {
          "output_type": "stream",
          "name": "stdout",
          "text": [
            "3\n",
            "torch.Size([3, 224, 224])\n"
          ]
        }
      ]
    },
    {
      "cell_type": "code",
      "source": [
        "#we have 3 matrix of 224x244 for every color channel\n",
        "print(RANDOM)"
      ],
      "metadata": {
        "colab": {
          "base_uri": "https://localhost:8080/"
        },
        "id": "J2keNKuSi7fJ",
        "outputId": "7429d5b9-b122-41ac-cc34-bb10745484d5"
      },
      "execution_count": null,
      "outputs": [
        {
          "output_type": "stream",
          "name": "stdout",
          "text": [
            "tensor([[[0.4775, 0.1502, 0.1688,  ..., 0.0633, 0.9907, 0.5113],\n",
            "         [0.8430, 0.6883, 0.8208,  ..., 0.0625, 0.4401, 0.2007],\n",
            "         [0.0455, 0.1910, 0.3327,  ..., 0.9722, 0.0060, 0.3059],\n",
            "         ...,\n",
            "         [0.6687, 0.5818, 0.3913,  ..., 0.0650, 0.3975, 0.7694],\n",
            "         [0.5119, 0.5758, 0.4029,  ..., 0.0653, 0.2445, 0.2170],\n",
            "         [0.1068, 0.5104, 0.9515,  ..., 0.8723, 0.5659, 0.3805]],\n",
            "\n",
            "        [[0.5544, 0.1401, 0.5626,  ..., 0.0157, 0.0600, 0.5629],\n",
            "         [0.7036, 0.4865, 0.1780,  ..., 0.0413, 0.8171, 0.7750],\n",
            "         [0.0125, 0.2349, 0.7188,  ..., 0.2132, 0.6912, 0.6942],\n",
            "         ...,\n",
            "         [0.7403, 0.8831, 0.4258,  ..., 0.5312, 0.2232, 0.6482],\n",
            "         [0.2500, 0.5688, 0.9476,  ..., 0.4678, 0.1368, 0.8012],\n",
            "         [0.2793, 0.3776, 0.1285,  ..., 0.8066, 0.2226, 0.4117]],\n",
            "\n",
            "        [[0.7522, 0.5676, 0.9702,  ..., 0.9413, 0.9233, 0.4031],\n",
            "         [0.6005, 0.1862, 0.7020,  ..., 0.6685, 0.8746, 0.4899],\n",
            "         [0.7406, 0.2924, 0.1009,  ..., 0.3734, 0.9444, 0.5313],\n",
            "         ...,\n",
            "         [0.2812, 0.4379, 0.8094,  ..., 0.8763, 0.3984, 0.7164],\n",
            "         [0.8137, 0.5065, 0.4927,  ..., 0.4381, 0.8594, 0.7710],\n",
            "         [0.9043, 0.0503, 0.8042,  ..., 0.1795, 0.3964, 0.5933]]])\n"
          ]
        }
      ]
    },
    {
      "cell_type": "code",
      "source": [
        "#Its moment to see our random image!!\n",
        "\n",
        "import cv2\n",
        "from google.colab.patches import cv2_imshow  # Import cv2_imshow for displaying images in Colab\n",
        "\n",
        "# Convert PyTorch tensor to NumPy array\n",
        "image_np = RANDOM.numpy()\n",
        "\n",
        "# Transpose dimensions from (3, 224, 224) to (224, 224, 3) BASICALLY we were readjusting dimensions!!\n",
        "image_np = np.transpose(image_np, (1, 2, 0))\n",
        "\n",
        "# Scale pixel values to 0-255 (assuming the tensor values are already between 0 and 1)\n",
        "image_np = (image_np * 255).astype(np.uint8)\n",
        "\n",
        "# Display using cv2_imshow for Colab\n",
        "cv2_imshow(image_np)\n",
        "cv2.destroyAllWindows()"
      ],
      "metadata": {
        "colab": {
          "base_uri": "https://localhost:8080/",
          "height": 241
        },
        "id": "Av3U48iyjp7i",
        "outputId": "f8ebf2a7-4cd6-4c62-d030-99279b4c62ce"
      },
      "execution_count": null,
      "outputs": [
        {
          "output_type": "display_data",
          "data": {
            "text/plain": [
              "<PIL.Image.Image image mode=RGB size=224x224>"
            ],
            "image/png": "[encoded data removed]"
          },
          "metadata": {}
        }
      ]
    },
    {
      "cell_type": "markdown",
      "source": [
        "## Zeros and Ones tensor"
      ],
      "metadata": {
        "id": "U1RS00YskZqL"
      }
    },
    {
      "cell_type": "code",
      "source": [
        "#you can use this to perform a mask operation over the image/original tensor\n",
        "zeros = torch.zeros(size=(3,4))\n",
        "print(zeros)\n",
        "print(zeros.ndim)\n",
        "print(zeros.shape)"
      ],
      "metadata": {
        "colab": {
          "base_uri": "https://localhost:8080/"
        },
        "id": "tc92d7QOkd2E",
        "outputId": "16b305f9-1e47-4f19-f806-e4ebbdc888d5"
      },
      "execution_count": null,
      "outputs": [
        {
          "output_type": "stream",
          "name": "stdout",
          "text": [
            "tensor([[0., 0., 0., 0.],\n",
            "        [0., 0., 0., 0.],\n",
            "        [0., 0., 0., 0.]])\n",
            "2\n",
            "torch.Size([3, 4])\n"
          ]
        }
      ]
    },
    {
      "cell_type": "code",
      "source": [
        "ones = torch.ones(size=(3,4))\n",
        "print(ones)\n",
        "print(ones.ndim)\n",
        "print(ones.shape)\n",
        "print(ones.dtype)"
      ],
      "metadata": {
        "colab": {
          "base_uri": "https://localhost:8080/"
        },
        "id": "OsqQvU5Xko4t",
        "outputId": "a94475cb-a354-4edf-cbfb-d0d6a1ab9d47"
      },
      "execution_count": null,
      "outputs": [
        {
          "output_type": "stream",
          "name": "stdout",
          "text": [
            "tensor([[1., 1., 1., 1.],\n",
            "        [1., 1., 1., 1.],\n",
            "        [1., 1., 1., 1.]])\n",
            "2\n",
            "torch.Size([3, 4])\n",
            "torch.float32\n"
          ]
        }
      ]
    },
    {
      "cell_type": "markdown",
      "source": [
        "Normally, the data type in tensors is float32."
      ],
      "metadata": {
        "id": "tEPumjmWk6Ts"
      }
    },
    {
      "cell_type": "markdown",
      "source": [
        "## Range of tensors and tensors-like"
      ],
      "metadata": {
        "id": "xWbwnoFJlIfE"
      }
    },
    {
      "cell_type": "code",
      "source": [
        "RANGE=torch.arange(start=0,end=100,step=7)\n",
        "print(RANGE)\n",
        "print(RANGE.ndim)\n",
        "print(RANGE.shape)"
      ],
      "metadata": {
        "colab": {
          "base_uri": "https://localhost:8080/"
        },
        "id": "pkn3-s_-lOOI",
        "outputId": "94b216c9-8812-4470-e47c-163a3158a561"
      },
      "execution_count": null,
      "outputs": [
        {
          "output_type": "stream",
          "name": "stdout",
          "text": [
            "tensor([ 0,  7, 14, 21, 28, 35, 42, 49, 56, 63, 70, 77, 84, 91, 98])\n",
            "1\n",
            "torch.Size([15])\n"
          ]
        }
      ]
    },
    {
      "cell_type": "code",
      "source": [
        "#creating tensors like (reference another tensor size and change the elements)\n",
        "ones = torch.ones_like(input=RANGE)\n",
        "print(ones)\n",
        "print(ones.ndim)\n",
        "print(ones.shape)\n",
        "\n",
        "zeros = torch.zeros_like(input=RANGE)\n",
        "print(zeros)\n",
        "print(zeros.ndim)\n",
        "print(zeros.shape)"
      ],
      "metadata": {
        "colab": {
          "base_uri": "https://localhost:8080/"
        },
        "id": "DhdvjHMclyU5",
        "outputId": "f595594b-1222-41e4-d4ca-afb384c84040"
      },
      "execution_count": null,
      "outputs": [
        {
          "output_type": "stream",
          "name": "stdout",
          "text": [
            "tensor([1, 1, 1, 1, 1, 1, 1, 1, 1, 1, 1, 1, 1, 1, 1])\n",
            "1\n",
            "torch.Size([15])\n",
            "tensor([0, 0, 0, 0, 0, 0, 0, 0, 0, 0, 0, 0, 0, 0, 0])\n",
            "1\n",
            "torch.Size([15])\n"
          ]
        }
      ]
    },
    {
      "cell_type": "markdown",
      "source": [
        "## Tensor data types\n",
        "\n",
        "Common erros related to tensors:\n",
        "- tensors not right datatype\n",
        "- tensors not right shape\n",
        "- tensors not on the right device"
      ],
      "metadata": {
        "id": "-L6nkFpwmjvb"
      }
    },
    {
      "cell_type": "code",
      "source": [
        "#default data\n",
        "float_32_tensor = torch.tensor([3.0,6.0,9.0],\n",
        "                               dtype=None, #data type\n",
        "                               device=None, #device on which to store the tensor\n",
        "                               requires_grad=False #whether to track gradients or not\n",
        "                               )\n",
        "print(float_32_tensor)\n",
        "print(float_32_tensor.dtype)"
      ],
      "metadata": {
        "colab": {
          "base_uri": "https://localhost:8080/"
        },
        "id": "8rFRCY2Gmm_8",
        "outputId": "e86e3d0a-801e-4aa2-d7f6-45f00e035322"
      },
      "execution_count": null,
      "outputs": [
        {
          "output_type": "stream",
          "name": "stdout",
          "text": [
            "tensor([3., 6., 9.])\n",
            "torch.float32\n"
          ]
        }
      ]
    },
    {
      "cell_type": "code",
      "source": [
        "float_16_tensor = torch.tensor([3.0,6.0,9.0],dtype=torch.float16)\n",
        "print(float_16_tensor)\n",
        "print(float_16_tensor.dtype)"
      ],
      "metadata": {
        "colab": {
          "base_uri": "https://localhost:8080/"
        },
        "id": "vX-a-dLamwWy",
        "outputId": "7b775c7a-0f62-4de7-c8a6-f3baebad5ac5"
      },
      "execution_count": null,
      "outputs": [
        {
          "output_type": "stream",
          "name": "stdout",
          "text": [
            "tensor([3., 6., 9.], dtype=torch.float16)\n",
            "torch.float16\n"
          ]
        }
      ]
    },
    {
      "cell_type": "code",
      "source": [
        "float_64_tensor = torch.tensor([3.0,6.0,9.0],dtype=torch.float64)\n",
        "print(float_64_tensor)\n",
        "print(float_64_tensor.dtype)"
      ],
      "metadata": {
        "colab": {
          "base_uri": "https://localhost:8080/"
        },
        "id": "mnRTY_UFnJ8E",
        "outputId": "d199aa6b-d910-40af-dc67-29bec3680d8c"
      },
      "execution_count": null,
      "outputs": [
        {
          "output_type": "stream",
          "name": "stdout",
          "text": [
            "tensor([3., 6., 9.], dtype=torch.float64)\n",
            "torch.float64\n"
          ]
        }
      ]
    },
    {
      "cell_type": "code",
      "source": [
        "float_16_tensor*float_64_tensor"
      ],
      "metadata": {
        "colab": {
          "base_uri": "https://localhost:8080/"
        },
        "id": "PpdrFaSftDbk",
        "outputId": "92d37ecd-2894-40e9-d68e-d0dc27df8e16"
      },
      "execution_count": null,
      "outputs": [
        {
          "output_type": "execute_result",
          "data": {
            "text/plain": [
              "tensor([ 9., 36., 81.], dtype=torch.float64)"
            ]
          },
          "metadata": {},
          "execution_count": 25
        }
      ]
    },
    {
      "cell_type": "markdown",
      "source": [
        "## Tensor properties\n"
      ],
      "metadata": {
        "id": "2bei9gYvtQcH"
      }
    },
    {
      "cell_type": "code",
      "source": [
        "'''\n",
        "  Since the most common errors are:\n",
        "  1. Tensors not right datatype\n",
        "  2. Tensors not right shape\n",
        "  3. Tensors not on the right device\n",
        "'''\n",
        "float_64_tensor = torch.tensor([3.0,6.0,9.0],dtype=torch.float64)\n",
        "print(float_64_tensor.dtype)\n",
        "print(float_64_tensor.shape)\n",
        "print(float_64_tensor.device)\n",
        "print(float_64_tensor.size())"
      ],
      "metadata": {
        "colab": {
          "base_uri": "https://localhost:8080/"
        },
        "id": "w13Q36qHtsuW",
        "outputId": "4cb0f0b7-d13f-4c90-c862-44493950795d"
      },
      "execution_count": null,
      "outputs": [
        {
          "output_type": "stream",
          "name": "stdout",
          "text": [
            "torch.float64\n",
            "torch.Size([3])\n",
            "cpu\n",
            "torch.Size([3])\n"
          ]
        }
      ]
    },
    {
      "cell_type": "markdown",
      "source": [
        "## Manipulating tensors\n",
        "\n",
        "Tensor operations include:\n",
        "- Addition\n",
        "- Substraction\n",
        "- Multiplication (element-wise)\n",
        "- Division\n",
        "- Matrix multiplication"
      ],
      "metadata": {
        "id": "SlBs_siHvUoi"
      }
    },
    {
      "cell_type": "code",
      "source": [
        "# addition\n",
        "TENSOR = torch.tensor([1,2,3])\n",
        "TENSOR += 10\n",
        "print(TENSOR)"
      ],
      "metadata": {
        "colab": {
          "base_uri": "https://localhost:8080/"
        },
        "id": "1vp83ovDvYAY",
        "outputId": "68a84b9d-3eb2-41a6-a232-b84b26da3153"
      },
      "execution_count": null,
      "outputs": [
        {
          "output_type": "stream",
          "name": "stdout",
          "text": [
            "tensor([11, 12, 13])\n"
          ]
        }
      ]
    },
    {
      "cell_type": "code",
      "source": [
        "# multiplication\n",
        "\n",
        "#By elements\n",
        "TENSOR = torch.tensor([1,2,3])\n",
        "TENSOR *= 10\n",
        "print(TENSOR)"
      ],
      "metadata": {
        "colab": {
          "base_uri": "https://localhost:8080/"
        },
        "id": "V1fuLJjKwB2D",
        "outputId": "dd0f5a6a-77e3-47df-8beb-da15004c9d13"
      },
      "execution_count": null,
      "outputs": [
        {
          "output_type": "stream",
          "name": "stdout",
          "text": [
            "tensor([10, 20, 30])\n"
          ]
        }
      ]
    },
    {
      "cell_type": "code",
      "source": [
        "# substract\n",
        "TENSOR = torch.tensor([1,2,3])\n",
        "TENSOR -= 10\n",
        "print(TENSOR)"
      ],
      "metadata": {
        "colab": {
          "base_uri": "https://localhost:8080/"
        },
        "id": "hymnbja4wO7z",
        "outputId": "2703e091-fbe2-446e-d184-9dff57f74c07"
      },
      "execution_count": null,
      "outputs": [
        {
          "output_type": "stream",
          "name": "stdout",
          "text": [
            "tensor([-9, -8, -7])\n"
          ]
        }
      ]
    },
    {
      "cell_type": "code",
      "source": [
        "#in-build functions\n",
        "TENSOR = torch.tensor([1,2,3])\n",
        "TENSOR = torch.mul(TENSOR,10)\n",
        "print(TENSOR)\n",
        "\n",
        "TENSOR = torch.tensor([1,2,3])\n",
        "TENSOR = torch.add(TENSOR,10)\n",
        "print(TENSOR)"
      ],
      "metadata": {
        "colab": {
          "base_uri": "https://localhost:8080/"
        },
        "id": "vffT8b4kwa0D",
        "outputId": "179058fe-f819-4c8b-9270-9acfda483713"
      },
      "execution_count": null,
      "outputs": [
        {
          "output_type": "stream",
          "name": "stdout",
          "text": [
            "tensor([10, 20, 30])\n",
            "tensor([11, 12, 13])\n"
          ]
        }
      ]
    },
    {
      "cell_type": "markdown",
      "source": [
        "## Matrix multiplication\n",
        "\n",
        "There are 2 main ways of performing multiplication in NN and DL:\n",
        "\n",
        "- Element wise multiplication\n",
        "- Matrix multiplication (probably the most common operation in NN) --> dot product\n",
        "\n",
        "Some basic rules:\n",
        "- The inner dimensions must match\n",
        "- The resulting matrix has the shape of the **outer dimensions**\n"
      ],
      "metadata": {
        "id": "n4ZwE75dwz3O"
      }
    },
    {
      "cell_type": "code",
      "source": [
        "TENSOR1 = torch.tensor([[1,2,3],\n",
        "                        [4,5,6]])\n",
        "\n",
        "TENSOR2 = torch.tensor([[7,8],\n",
        "                        [9,10],\n",
        "                        [11,12]])\n",
        "\n",
        "#matmul module allows to make a matrix operation: f,c * f,c where c1=f2 and result dimensions are f1,c2\n",
        "result = torch.matmul(TENSOR1,TENSOR2)\n",
        "print(result)"
      ],
      "metadata": {
        "colab": {
          "base_uri": "https://localhost:8080/"
        },
        "id": "1C4fLugCxC9c",
        "outputId": "5f887a41-dab0-43eb-d8ac-318bc14bc84b"
      },
      "execution_count": null,
      "outputs": [
        {
          "output_type": "stream",
          "name": "stdout",
          "text": [
            "tensor([[ 58,  64],\n",
            "        [139, 154]])\n"
          ]
        }
      ]
    },
    {
      "cell_type": "code",
      "source": [
        "TENSOR1 = torch.rand(2,3)\n",
        "\n",
        "TENSOR2 = torch.rand(3,7)\n",
        "\n",
        "#matmul module allows to make a matrix operation: f,c * f,c where c1=f2 and result dimensions are f1,c2\n",
        "result = torch.matmul(TENSOR1,TENSOR2)\n",
        "print(result)"
      ],
      "metadata": {
        "colab": {
          "base_uri": "https://localhost:8080/"
        },
        "id": "A0NHEK7rysrK",
        "outputId": "912ae75c-bbf9-4006-d8a6-3612a8e1657f"
      },
      "execution_count": null,
      "outputs": [
        {
          "output_type": "stream",
          "name": "stdout",
          "text": [
            "tensor([[0.8466, 1.9636, 1.5225, 2.0233, 0.7964, 0.7383, 1.2037],\n",
            "        [0.1764, 0.4134, 0.3158, 0.4170, 0.1730, 0.1342, 0.2575]])\n"
          ]
        }
      ]
    },
    {
      "cell_type": "markdown",
      "source": [
        "## Dealing with tensor shapes errors"
      ],
      "metadata": {
        "id": "AdSEITBey5Pi"
      }
    },
    {
      "cell_type": "code",
      "source": [
        "a = torch.rand(3,2)\n",
        "b = torch.rand(2,3)\n",
        "torch.matmul(a,b)\n",
        "\n",
        "#however, if we try to to do this.. RULE NUMBER 1 IS NOT SATISFIED\n",
        "a = torch.rand(3,2)\n",
        "b = torch.rand(4,3)\n",
        "torch.matmul(a,b)"
      ],
      "metadata": {
        "id": "DC_ji1FQy84r",
        "colab": {
          "base_uri": "https://localhost:8080/",
          "height": 182
        },
        "outputId": "cc92efa5-ef6d-4a2a-8a25-c6a28a5f16f0"
      },
      "execution_count": null,
      "outputs": [
        {
          "output_type": "error",
          "ename": "RuntimeError",
          "evalue": "mat1 and mat2 shapes cannot be multiplied (3x2 and 4x3)",
          "traceback": [
            "\u001b[0;31m---------------------------------------------------------------------------\u001b[0m",
            "\u001b[0;31mRuntimeError\u001b[0m                              Traceback (most recent call last)",
            "\u001b[0;32m<ipython-input-33-1941db60b960>\u001b[0m in \u001b[0;36m<cell line: 8>\u001b[0;34m()\u001b[0m\n\u001b[1;32m      6\u001b[0m \u001b[0ma\u001b[0m \u001b[0;34m=\u001b[0m \u001b[0mtorch\u001b[0m\u001b[0;34m.\u001b[0m\u001b[0mrand\u001b[0m\u001b[0;34m(\u001b[0m\u001b[0;36m3\u001b[0m\u001b[0;34m,\u001b[0m\u001b[0;36m2\u001b[0m\u001b[0;34m)\u001b[0m\u001b[0;34m\u001b[0m\u001b[0;34m\u001b[0m\u001b[0m\n\u001b[1;32m      7\u001b[0m \u001b[0mb\u001b[0m \u001b[0;34m=\u001b[0m \u001b[0mtorch\u001b[0m\u001b[0;34m.\u001b[0m\u001b[0mrand\u001b[0m\u001b[0;34m(\u001b[0m\u001b[0;36m4\u001b[0m\u001b[0;34m,\u001b[0m\u001b[0;36m3\u001b[0m\u001b[0;34m)\u001b[0m\u001b[0;34m\u001b[0m\u001b[0;34m\u001b[0m\u001b[0m\n\u001b[0;32m----> 8\u001b[0;31m \u001b[0mtorch\u001b[0m\u001b[0;34m.\u001b[0m\u001b[0mmatmul\u001b[0m\u001b[0;34m(\u001b[0m\u001b[0ma\u001b[0m\u001b[0;34m,\u001b[0m\u001b[0mb\u001b[0m\u001b[0;34m)\u001b[0m\u001b[0;34m\u001b[0m\u001b[0;34m\u001b[0m\u001b[0m\n\u001b[0m",
            "\u001b[0;31mRuntimeError\u001b[0m: mat1 and mat2 shapes cannot be multiplied (3x2 and 4x3)"
          ]
        }
      ]
    },
    {
      "cell_type": "markdown",
      "source": [
        "To fix our tensor shape issues, we are able to **transpose** the dimensions of this tensor."
      ],
      "metadata": {
        "id": "k2pgrQmmqYb-"
      }
    },
    {
      "cell_type": "code",
      "source": [
        "a = torch.rand(3,2)\n",
        "print(a.shape)\n",
        "a.T.shape #transpose the original tensor"
      ],
      "metadata": {
        "colab": {
          "base_uri": "https://localhost:8080/"
        },
        "id": "DCdAHLsRqhFd",
        "outputId": "d8612f1f-b525-49de-df21-a0e222160890"
      },
      "execution_count": null,
      "outputs": [
        {
          "output_type": "stream",
          "name": "stdout",
          "text": [
            "torch.Size([3, 2])\n"
          ]
        },
        {
          "output_type": "execute_result",
          "data": {
            "text/plain": [
              "torch.Size([2, 3])"
            ]
          },
          "metadata": {},
          "execution_count": 34
        }
      ]
    },
    {
      "cell_type": "markdown",
      "source": [
        "**Aggregation functions**"
      ],
      "metadata": {
        "id": "RfS4hYFEsGZq"
      }
    },
    {
      "cell_type": "code",
      "source": [
        "a = torch.rand(3,2)\n",
        "print(a)\n",
        "print(a.sum())\n",
        "print(a.sum().item())\n",
        "print(a.mean())\n",
        "print(a.mean().item())\n",
        "print(a.min())\n",
        "print(a.max())"
      ],
      "metadata": {
        "colab": {
          "base_uri": "https://localhost:8080/"
        },
        "id": "EGzQr8h_sJ7P",
        "outputId": "8e941aec-449f-4adf-c13b-d12fd922035a"
      },
      "execution_count": null,
      "outputs": [
        {
          "output_type": "stream",
          "name": "stdout",
          "text": [
            "tensor([[0.0925, 0.1491],\n",
            "        [0.2624, 0.4917],\n",
            "        [0.3622, 0.9286]])\n",
            "tensor(2.2865)\n",
            "2.286506175994873\n",
            "tensor(0.3811)\n",
            "0.3810843527317047\n",
            "tensor(0.0925)\n",
            "tensor(0.9286)\n"
          ]
        }
      ]
    },
    {
      "cell_type": "markdown",
      "source": [
        "Find the position of the minimum and max value:"
      ],
      "metadata": {
        "id": "ILftQzqQt1js"
      }
    },
    {
      "cell_type": "code",
      "source": [
        "a = torch.rand(1,10)\n",
        "print(a)\n",
        "print(a.argmin())\n",
        "print(a.argmax())"
      ],
      "metadata": {
        "colab": {
          "base_uri": "https://localhost:8080/"
        },
        "id": "PCj0PzoGt6oI",
        "outputId": "e9b97111-b112-4221-a20e-a81950a34bc7"
      },
      "execution_count": null,
      "outputs": [
        {
          "output_type": "stream",
          "name": "stdout",
          "text": [
            "tensor([[0.8623, 0.5888, 0.0460, 0.0803, 0.0304, 0.9663, 0.3291, 0.2997, 0.6700,\n",
            "         0.2273]])\n",
            "tensor(4)\n",
            "tensor(5)\n"
          ]
        }
      ]
    },
    {
      "cell_type": "markdown",
      "source": [
        "## Reshaping ,vector stacking, squeezing and unsquezzing\n",
        "\n",
        "- Reshaping: reshapes an input tensor to a define shape.\n",
        "- View: return a view of an input tensor of certain shape but keep the same memory as the original tensor.\n",
        "- Stacking: combine multiple tensors on top each other (vertical or horizontal)\n",
        "- Squeeze: removes all '1' dimensions from the tensor.\n",
        "- Unsqueeze: add a '1' dimension to the target tensor.\n",
        "- Permute: retrun a view of the input with dimensions permuted (dimensions swapped in a certain way).\n"
      ],
      "metadata": {
        "id": "j5OYmz7pH3Sn"
      }
    },
    {
      "cell_type": "code",
      "source": [
        "import torch\n",
        "x = torch.arange(1.,11)\n",
        "x,x.shape"
      ],
      "metadata": {
        "colab": {
          "base_uri": "https://localhost:8080/"
        },
        "id": "AyI7y7k0JM5X",
        "outputId": "0aaca352-c667-469f-f8e2-8f40093786fa"
      },
      "execution_count": null,
      "outputs": [
        {
          "output_type": "execute_result",
          "data": {
            "text/plain": [
              "(tensor([ 1.,  2.,  3.,  4.,  5.,  6.,  7.,  8.,  9., 10.]), torch.Size([10]))"
            ]
          },
          "metadata": {},
          "execution_count": 37
        }
      ]
    },
    {
      "cell_type": "code",
      "source": [
        "#1) RESHAPE OPERATION\n",
        "#Add an extra dimension\n",
        "x_reshaped = x.reshape(2,5)\n",
        "print(x_reshaped,x_reshaped.shape)\n",
        "\n",
        "x_reshaped = x.reshape(5,2)\n",
        "print(x_reshaped,x_reshaped.shape)"
      ],
      "metadata": {
        "colab": {
          "base_uri": "https://localhost:8080/"
        },
        "id": "94qc--qwJVSF",
        "outputId": "4f1658e2-299a-4ceb-aeef-6059fc25cf28"
      },
      "execution_count": null,
      "outputs": [
        {
          "output_type": "stream",
          "name": "stdout",
          "text": [
            "tensor([[ 1.,  2.,  3.,  4.,  5.],\n",
            "        [ 6.,  7.,  8.,  9., 10.]]) torch.Size([2, 5])\n",
            "tensor([[ 1.,  2.],\n",
            "        [ 3.,  4.],\n",
            "        [ 5.,  6.],\n",
            "        [ 7.,  8.],\n",
            "        [ 9., 10.]]) torch.Size([5, 2])\n"
          ]
        }
      ]
    },
    {
      "cell_type": "code",
      "source": [
        "#2)View operation\n",
        "#change the view\n",
        "z = x.view(1,10)\n",
        "print(z,z.shape)"
      ],
      "metadata": {
        "colab": {
          "base_uri": "https://localhost:8080/"
        },
        "id": "E4eDfa8HJ74F",
        "outputId": "a9010f76-aca0-42b8-aec8-e83ffe39150c"
      },
      "execution_count": null,
      "outputs": [
        {
          "output_type": "stream",
          "name": "stdout",
          "text": [
            "tensor([[ 1.,  2.,  3.,  4.,  5.,  6.,  7.,  8.,  9., 10.]]) torch.Size([1, 10])\n"
          ]
        }
      ]
    },
    {
      "cell_type": "code",
      "source": [
        "#if we change the view, the value of X will change. That's why the view of a tensor shares the same memory as the tensor itself.\n",
        "#Like a pointer\n",
        "z[:,0]=5\n",
        "print(x)"
      ],
      "metadata": {
        "colab": {
          "base_uri": "https://localhost:8080/"
        },
        "id": "Xedial4-KZSh",
        "outputId": "d267cdac-38c0-4982-efac-8cb8e6b244c9"
      },
      "execution_count": null,
      "outputs": [
        {
          "output_type": "stream",
          "name": "stdout",
          "text": [
            "tensor([ 5.,  2.,  3.,  4.,  5.,  6.,  7.,  8.,  9., 10.])\n"
          ]
        }
      ]
    },
    {
      "cell_type": "code",
      "source": [
        "#3)Stack tensors on top of each other\n",
        "#dim=0 --> horizontal way\n",
        "x_stacked = torch.stack([x,x,x,x],dim=0)\n",
        "print(x_stacked)"
      ],
      "metadata": {
        "colab": {
          "base_uri": "https://localhost:8080/"
        },
        "id": "GT_3xM3hKwFs",
        "outputId": "a154de55-7f67-44c5-db6d-c8cdd44678a6"
      },
      "execution_count": null,
      "outputs": [
        {
          "output_type": "stream",
          "name": "stdout",
          "text": [
            "tensor([[ 5.,  2.,  3.,  4.,  5.,  6.,  7.,  8.,  9., 10.],\n",
            "        [ 5.,  2.,  3.,  4.,  5.,  6.,  7.,  8.,  9., 10.],\n",
            "        [ 5.,  2.,  3.,  4.,  5.,  6.,  7.,  8.,  9., 10.],\n",
            "        [ 5.,  2.,  3.,  4.,  5.,  6.,  7.,  8.,  9., 10.]])\n"
          ]
        }
      ]
    },
    {
      "cell_type": "code",
      "source": [
        "#dim=1 --> vertical way\n",
        "x_stacked = torch.stack([x,x,x,x],dim=1)\n",
        "print(x_stacked)"
      ],
      "metadata": {
        "colab": {
          "base_uri": "https://localhost:8080/"
        },
        "id": "Fbv2h2lVL05N",
        "outputId": "bed9e42e-16c4-466b-9373-e7dcc4c806e0"
      },
      "execution_count": null,
      "outputs": [
        {
          "output_type": "stream",
          "name": "stdout",
          "text": [
            "tensor([[ 5.,  5.,  5.,  5.],\n",
            "        [ 2.,  2.,  2.,  2.],\n",
            "        [ 3.,  3.,  3.,  3.],\n",
            "        [ 4.,  4.,  4.,  4.],\n",
            "        [ 5.,  5.,  5.,  5.],\n",
            "        [ 6.,  6.,  6.,  6.],\n",
            "        [ 7.,  7.,  7.,  7.],\n",
            "        [ 8.,  8.,  8.,  8.],\n",
            "        [ 9.,  9.,  9.,  9.],\n",
            "        [10., 10., 10., 10.]])\n"
          ]
        }
      ]
    },
    {
      "cell_type": "code",
      "source": [
        "#stack elements of vectors in a differentway\n",
        "xh = torch.hstack([x,x,x,x])\n",
        "print(xh)\n",
        "\n",
        "vh = torch.vstack([x,x,x,x])\n",
        "print(vh)"
      ],
      "metadata": {
        "colab": {
          "base_uri": "https://localhost:8080/"
        },
        "id": "NV7lCAecMnM7",
        "outputId": "e4da0a55-fd79-4425-c2f3-c002f94b9d38"
      },
      "execution_count": null,
      "outputs": [
        {
          "output_type": "stream",
          "name": "stdout",
          "text": [
            "tensor([ 5.,  2.,  3.,  4.,  5.,  6.,  7.,  8.,  9., 10.,  5.,  2.,  3.,  4.,\n",
            "         5.,  6.,  7.,  8.,  9., 10.,  5.,  2.,  3.,  4.,  5.,  6.,  7.,  8.,\n",
            "         9., 10.,  5.,  2.,  3.,  4.,  5.,  6.,  7.,  8.,  9., 10.])\n",
            "tensor([[ 5.,  2.,  3.,  4.,  5.,  6.,  7.,  8.,  9., 10.],\n",
            "        [ 5.,  2.,  3.,  4.,  5.,  6.,  7.,  8.,  9., 10.],\n",
            "        [ 5.,  2.,  3.,  4.,  5.,  6.,  7.,  8.,  9., 10.],\n",
            "        [ 5.,  2.,  3.,  4.,  5.,  6.,  7.,  8.,  9., 10.]])\n"
          ]
        }
      ]
    },
    {
      "cell_type": "code",
      "source": [
        "a = torch.rand(2,3)\n",
        "b = torch.rand(2,3)\n",
        "print(a)\n",
        "print(b)\n",
        "print()\n",
        "horizontal_stack = torch.stack([a,b],dim=0)\n",
        "print(horizontal_stack)\n",
        "print()\n",
        "vertical_stack = torch.stack([a,b],dim=1)\n",
        "print(horizontal_stack)"
      ],
      "metadata": {
        "colab": {
          "base_uri": "https://localhost:8080/"
        },
        "id": "XXX0-jXOMSFM",
        "outputId": "d90c304a-8e30-4592-8375-2d3171e567eb"
      },
      "execution_count": null,
      "outputs": [
        {
          "output_type": "stream",
          "name": "stdout",
          "text": [
            "tensor([[0.9435, 0.3425, 0.4136],\n",
            "        [0.9065, 0.5120, 0.6457]])\n",
            "tensor([[0.8419, 0.7301, 0.8885],\n",
            "        [0.9929, 0.4152, 0.9997]])\n",
            "\n",
            "tensor([[[0.9435, 0.3425, 0.4136],\n",
            "         [0.9065, 0.5120, 0.6457]],\n",
            "\n",
            "        [[0.8419, 0.7301, 0.8885],\n",
            "         [0.9929, 0.4152, 0.9997]]])\n",
            "\n",
            "tensor([[[0.9435, 0.3425, 0.4136],\n",
            "         [0.9065, 0.5120, 0.6457]],\n",
            "\n",
            "        [[0.8419, 0.7301, 0.8885],\n",
            "         [0.9929, 0.4152, 0.9997]]])\n"
          ]
        }
      ]
    },
    {
      "cell_type": "code",
      "source": [
        "#4)Time to perform squeeze and unsqueeze\n",
        "\n",
        "\n",
        "#Squeeze: removed single dimensions from the tensor\n",
        "x = torch.zeros(1,1,1,10)\n",
        "print(x)\n",
        "print(x.shape)\n",
        "print()\n",
        "x_squeezed = x.squeeze()\n",
        "print(x_squeezed)\n",
        "print(x_squeezed.shape)\n",
        "print('--------------------------------')\n",
        "#unsqueeze: add a single dimensions to the vector\n",
        "image = torch.rand(256,256)\n",
        "print(image)\n",
        "print(image.shape)\n",
        "print()\n",
        "image_unsqueezed = image.unsqueeze(dim=0)\n",
        "print(image_unsqueezed)"
      ],
      "metadata": {
        "colab": {
          "base_uri": "https://localhost:8080/"
        },
        "id": "Z5FF-ia1NOM6",
        "outputId": "9c8472e3-687d-47b7-bf1b-b188605366e7"
      },
      "execution_count": null,
      "outputs": [
        {
          "output_type": "stream",
          "name": "stdout",
          "text": [
            "tensor([[[[0., 0., 0., 0., 0., 0., 0., 0., 0., 0.]]]])\n",
            "torch.Size([1, 1, 1, 10])\n",
            "\n",
            "tensor([0., 0., 0., 0., 0., 0., 0., 0., 0., 0.])\n",
            "torch.Size([10])\n",
            "--------------------------------\n",
            "tensor([[0.6516, 0.2422, 0.3144,  ..., 0.7013, 0.9033, 0.6181],\n",
            "        [0.9821, 0.4832, 0.7981,  ..., 0.7766, 0.5147, 0.4158],\n",
            "        [0.9942, 0.4379, 0.8283,  ..., 0.3144, 0.8208, 0.0415],\n",
            "        ...,\n",
            "        [0.0437, 0.7809, 0.5167,  ..., 0.1211, 0.2592, 0.4757],\n",
            "        [0.2599, 0.5415, 0.6420,  ..., 0.1076, 0.9051, 0.4688],\n",
            "        [0.8352, 0.1446, 0.6515,  ..., 0.5365, 0.2408, 0.5051]])\n",
            "torch.Size([256, 256])\n",
            "\n",
            "tensor([[[0.6516, 0.2422, 0.3144,  ..., 0.7013, 0.9033, 0.6181],\n",
            "         [0.9821, 0.4832, 0.7981,  ..., 0.7766, 0.5147, 0.4158],\n",
            "         [0.9942, 0.4379, 0.8283,  ..., 0.3144, 0.8208, 0.0415],\n",
            "         ...,\n",
            "         [0.0437, 0.7809, 0.5167,  ..., 0.1211, 0.2592, 0.4757],\n",
            "         [0.2599, 0.5415, 0.6420,  ..., 0.1076, 0.9051, 0.4688],\n",
            "         [0.8352, 0.1446, 0.6515,  ..., 0.5365, 0.2408, 0.5051]]])\n"
          ]
        }
      ]
    },
    {
      "cell_type": "code",
      "source": [
        "#So basically, when we use unsqueezed, we can add a single dimension to a target dimension\n",
        "print(f\"Previos target {x_squeezed}\")\n",
        "print(f\"Previous shape {x_squeezed.shape}\")\n",
        "print()\n",
        "print(f\"New target {x_squeezed.unsqueeze(dim=0)}\")\n",
        "print(f\"New shape {x_squeezed.unsqueeze(dim=0).shape}\")\n",
        "print()\n",
        "print(f\"New target {x_squeezed.unsqueeze(dim=1)}\")\n",
        "print(f\"New shape {x_squeezed.unsqueeze(dim=1).shape}\")"
      ],
      "metadata": {
        "colab": {
          "base_uri": "https://localhost:8080/"
        },
        "id": "8CpwOK6wtXPb",
        "outputId": "84ac5458-c1ca-4f4c-b0ba-103786c9555c"
      },
      "execution_count": null,
      "outputs": [
        {
          "output_type": "stream",
          "name": "stdout",
          "text": [
            "Previos target tensor([0., 0., 0., 0., 0., 0., 0., 0., 0., 0.])\n",
            "Previous shape torch.Size([10])\n",
            "\n",
            "New target tensor([[0., 0., 0., 0., 0., 0., 0., 0., 0., 0.]])\n",
            "New shape torch.Size([1, 10])\n",
            "\n",
            "New target tensor([[0.],\n",
            "        [0.],\n",
            "        [0.],\n",
            "        [0.],\n",
            "        [0.],\n",
            "        [0.],\n",
            "        [0.],\n",
            "        [0.],\n",
            "        [0.],\n",
            "        [0.]])\n",
            "New shape torch.Size([10, 1])\n"
          ]
        }
      ]
    },
    {
      "cell_type": "code",
      "source": [
        "#5)Permute: rearranges the dimensions of a target tensor in a specific order\n",
        "x = torch.rand(2,3,4)\n",
        "print(x)\n",
        "print(x.shape)\n",
        "print()\n",
        "'''\n",
        "in this case, we have re-arranged the dimensions of the elements: 3d,1d,2d\n",
        "So, in our case, we will have: 4 elements, with two rows and three columns\n",
        "'''\n",
        "x_permuted = x.permute(1,2,0)\n",
        "print(x_permuted)\n",
        "print(x_permuted.shape)"
      ],
      "metadata": {
        "colab": {
          "base_uri": "https://localhost:8080/"
        },
        "id": "JELU2WTft0SR",
        "outputId": "bed0b143-051f-49eb-861a-7e33d34b1aad"
      },
      "execution_count": null,
      "outputs": [
        {
          "output_type": "stream",
          "name": "stdout",
          "text": [
            "tensor([[[0.7811, 0.9475, 0.7991, 0.4194],\n",
            "         [0.6686, 0.1077, 0.2913, 0.7373],\n",
            "         [0.6612, 0.3451, 0.5056, 0.9742]],\n",
            "\n",
            "        [[0.5947, 0.0325, 0.2573, 0.0518],\n",
            "         [0.2538, 0.8833, 0.1420, 0.3593],\n",
            "         [0.9960, 0.0473, 0.0531, 0.9725]]])\n",
            "torch.Size([2, 3, 4])\n",
            "\n",
            "tensor([[[0.7811, 0.5947],\n",
            "         [0.9475, 0.0325],\n",
            "         [0.7991, 0.2573],\n",
            "         [0.4194, 0.0518]],\n",
            "\n",
            "        [[0.6686, 0.2538],\n",
            "         [0.1077, 0.8833],\n",
            "         [0.2913, 0.1420],\n",
            "         [0.7373, 0.3593]],\n",
            "\n",
            "        [[0.6612, 0.9960],\n",
            "         [0.3451, 0.0473],\n",
            "         [0.5056, 0.0531],\n",
            "         [0.9742, 0.9725]]])\n",
            "torch.Size([3, 4, 2])\n"
          ]
        }
      ]
    },
    {
      "cell_type": "code",
      "source": [
        "#in case we want to permute the dimensions of an existing image!!\n",
        "x = torch.rand(size=(256,255,3))\n",
        "print(x)\n",
        "print(x.shape)\n",
        "print()\n",
        "'''\n",
        "in this case, we have re-arranged the dimensions of the elements: 3d,1d,2d\n",
        "So, in our case, we will have: 4 elements, with two rows and three columns\n",
        "'''\n",
        "x_permuted = x.permute(1,2,0)\n",
        "print(x_permuted)\n",
        "print(x_permuted.shape)"
      ],
      "metadata": {
        "colab": {
          "base_uri": "https://localhost:8080/"
        },
        "id": "PwZ_N2-yw0Xi",
        "outputId": "fff93e2e-ddba-44be-908c-52271af6af84"
      },
      "execution_count": null,
      "outputs": [
        {
          "output_type": "stream",
          "name": "stdout",
          "text": [
            "tensor([[[0.7566, 0.7657, 0.3593],\n",
            "         [0.1969, 0.4734, 0.7091],\n",
            "         [0.5670, 0.2745, 0.1197],\n",
            "         ...,\n",
            "         [0.6615, 0.9979, 0.5627],\n",
            "         [0.2765, 0.4756, 0.2521],\n",
            "         [0.3227, 0.1931, 0.4790]],\n",
            "\n",
            "        [[0.9918, 0.9657, 0.4606],\n",
            "         [0.3746, 0.8694, 0.4501],\n",
            "         [0.0046, 0.3514, 0.8319],\n",
            "         ...,\n",
            "         [0.6630, 0.2974, 0.0510],\n",
            "         [0.1247, 0.8610, 0.9073],\n",
            "         [0.1611, 0.1728, 0.3926]],\n",
            "\n",
            "        [[0.0607, 0.2630, 0.2724],\n",
            "         [0.1200, 0.8734, 0.4914],\n",
            "         [0.4555, 0.0689, 0.5067],\n",
            "         ...,\n",
            "         [0.9570, 0.2778, 0.3599],\n",
            "         [0.8236, 0.4458, 0.3990],\n",
            "         [0.4599, 0.1974, 0.7191]],\n",
            "\n",
            "        ...,\n",
            "\n",
            "        [[0.0790, 0.0188, 0.3742],\n",
            "         [0.0937, 0.2728, 0.1086],\n",
            "         [0.4695, 0.0473, 0.5730],\n",
            "         ...,\n",
            "         [0.2722, 0.4013, 0.0523],\n",
            "         [0.1939, 0.0441, 0.5199],\n",
            "         [0.1134, 0.0975, 0.4696]],\n",
            "\n",
            "        [[0.7854, 0.0362, 0.8574],\n",
            "         [0.0988, 0.4522, 0.9566],\n",
            "         [0.5455, 0.0175, 0.9382],\n",
            "         ...,\n",
            "         [0.8284, 0.8368, 0.7892],\n",
            "         [0.8573, 0.0286, 0.2257],\n",
            "         [0.5266, 0.8268, 0.8137]],\n",
            "\n",
            "        [[0.8893, 0.7924, 0.3281],\n",
            "         [0.3657, 0.6880, 0.5543],\n",
            "         [0.5917, 0.7918, 0.9341],\n",
            "         ...,\n",
            "         [0.9941, 0.7161, 0.3766],\n",
            "         [0.8241, 0.4836, 0.7281],\n",
            "         [0.9210, 0.3992, 0.3600]]])\n",
            "torch.Size([256, 255, 3])\n",
            "\n",
            "tensor([[[0.7566, 0.9918, 0.0607,  ..., 0.0790, 0.7854, 0.8893],\n",
            "         [0.7657, 0.9657, 0.2630,  ..., 0.0188, 0.0362, 0.7924],\n",
            "         [0.3593, 0.4606, 0.2724,  ..., 0.3742, 0.8574, 0.3281]],\n",
            "\n",
            "        [[0.1969, 0.3746, 0.1200,  ..., 0.0937, 0.0988, 0.3657],\n",
            "         [0.4734, 0.8694, 0.8734,  ..., 0.2728, 0.4522, 0.6880],\n",
            "         [0.7091, 0.4501, 0.4914,  ..., 0.1086, 0.9566, 0.5543]],\n",
            "\n",
            "        [[0.5670, 0.0046, 0.4555,  ..., 0.4695, 0.5455, 0.5917],\n",
            "         [0.2745, 0.3514, 0.0689,  ..., 0.0473, 0.0175, 0.7918],\n",
            "         [0.1197, 0.8319, 0.5067,  ..., 0.5730, 0.9382, 0.9341]],\n",
            "\n",
            "        ...,\n",
            "\n",
            "        [[0.6615, 0.6630, 0.9570,  ..., 0.2722, 0.8284, 0.9941],\n",
            "         [0.9979, 0.2974, 0.2778,  ..., 0.4013, 0.8368, 0.7161],\n",
            "         [0.5627, 0.0510, 0.3599,  ..., 0.0523, 0.7892, 0.3766]],\n",
            "\n",
            "        [[0.2765, 0.1247, 0.8236,  ..., 0.1939, 0.8573, 0.8241],\n",
            "         [0.4756, 0.8610, 0.4458,  ..., 0.0441, 0.0286, 0.4836],\n",
            "         [0.2521, 0.9073, 0.3990,  ..., 0.5199, 0.2257, 0.7281]],\n",
            "\n",
            "        [[0.3227, 0.1611, 0.4599,  ..., 0.1134, 0.5266, 0.9210],\n",
            "         [0.1931, 0.1728, 0.1974,  ..., 0.0975, 0.8268, 0.3992],\n",
            "         [0.4790, 0.3926, 0.7191,  ..., 0.4696, 0.8137, 0.3600]]])\n",
            "torch.Size([255, 3, 256])\n"
          ]
        }
      ]
    },
    {
      "cell_type": "code",
      "source": [
        "#in the case we want to reasing the first element of the second matrix\n",
        "x[1,0,0] = 100\n",
        "print(x)"
      ],
      "metadata": {
        "colab": {
          "base_uri": "https://localhost:8080/"
        },
        "id": "BDGNxJ-KvQuC",
        "outputId": "c8fe40fd-b293-4de8-df96-193a9ff2d29f"
      },
      "execution_count": null,
      "outputs": [
        {
          "output_type": "stream",
          "name": "stdout",
          "text": [
            "tensor([[[1.0000e+02, 7.6574e-01, 3.5932e-01],\n",
            "         [1.9693e-01, 4.7337e-01, 7.0913e-01],\n",
            "         [5.6701e-01, 2.7446e-01, 1.1965e-01],\n",
            "         ...,\n",
            "         [6.6151e-01, 9.9785e-01, 5.6270e-01],\n",
            "         [2.7646e-01, 4.7565e-01, 2.5208e-01],\n",
            "         [3.2270e-01, 1.9311e-01, 4.7904e-01]],\n",
            "\n",
            "        [[1.0000e+02, 9.6565e-01, 4.6060e-01],\n",
            "         [3.7459e-01, 8.6939e-01, 4.5013e-01],\n",
            "         [4.5528e-03, 3.5144e-01, 8.3188e-01],\n",
            "         ...,\n",
            "         [6.6303e-01, 2.9736e-01, 5.0966e-02],\n",
            "         [1.2471e-01, 8.6095e-01, 9.0729e-01],\n",
            "         [1.6108e-01, 1.7276e-01, 3.9261e-01]],\n",
            "\n",
            "        [[6.0726e-02, 2.6296e-01, 2.7240e-01],\n",
            "         [1.2004e-01, 8.7344e-01, 4.9140e-01],\n",
            "         [4.5554e-01, 6.8860e-02, 5.0666e-01],\n",
            "         ...,\n",
            "         [9.5705e-01, 2.7779e-01, 3.5986e-01],\n",
            "         [8.2364e-01, 4.4578e-01, 3.9895e-01],\n",
            "         [4.5992e-01, 1.9737e-01, 7.1907e-01]],\n",
            "\n",
            "        ...,\n",
            "\n",
            "        [[7.9036e-02, 1.8768e-02, 3.7422e-01],\n",
            "         [9.3736e-02, 2.7280e-01, 1.0860e-01],\n",
            "         [4.6953e-01, 4.7339e-02, 5.7296e-01],\n",
            "         ...,\n",
            "         [2.7218e-01, 4.0126e-01, 5.2285e-02],\n",
            "         [1.9387e-01, 4.4123e-02, 5.1987e-01],\n",
            "         [1.1338e-01, 9.7514e-02, 4.6960e-01]],\n",
            "\n",
            "        [[7.8543e-01, 3.6196e-02, 8.5737e-01],\n",
            "         [9.8763e-02, 4.5223e-01, 9.5655e-01],\n",
            "         [5.4548e-01, 1.7473e-02, 9.3819e-01],\n",
            "         ...,\n",
            "         [8.2836e-01, 8.3683e-01, 7.8917e-01],\n",
            "         [8.5733e-01, 2.8616e-02, 2.2573e-01],\n",
            "         [5.2663e-01, 8.2679e-01, 8.1372e-01]],\n",
            "\n",
            "        [[8.8928e-01, 7.9245e-01, 3.2811e-01],\n",
            "         [3.6573e-01, 6.8797e-01, 5.5428e-01],\n",
            "         [5.9172e-01, 7.9184e-01, 9.3409e-01],\n",
            "         ...,\n",
            "         [9.9409e-01, 7.1615e-01, 3.7660e-01],\n",
            "         [8.2414e-01, 4.8359e-01, 7.2814e-01],\n",
            "         [9.2103e-01, 3.9917e-01, 3.6005e-01]]])\n"
          ]
        }
      ]
    },
    {
      "cell_type": "markdown",
      "source": [
        "## Indexig (selecting data from tensors)\n",
        "\n",
        "Indexing data with PyThorch is similar than indexing data with Numpy."
      ],
      "metadata": {
        "id": "fQgcvuyVyWEt"
      }
    },
    {
      "cell_type": "code",
      "source": [
        "#indexing --> select data from tensors\n",
        "import torch\n",
        "x = torch.arange(1,10).reshape(1,3,3)\n",
        "print(x)\n",
        "print()\n",
        "print(x[0]) #first element of the multi-dimensionals element\n",
        "print(x[0][0]) #first row of the first multi-dimensional element\n",
        "print(x[0][0][0]) #first element of the first multi-dimensional element"
      ],
      "metadata": {
        "colab": {
          "base_uri": "https://localhost:8080/"
        },
        "id": "Xn6QE8S6yR1h",
        "outputId": "8d804291-abca-4356-a237-260a59f7fa24"
      },
      "execution_count": null,
      "outputs": [
        {
          "output_type": "stream",
          "name": "stdout",
          "text": [
            "tensor([[[1, 2, 3],\n",
            "         [4, 5, 6],\n",
            "         [7, 8, 9]]])\n",
            "\n",
            "tensor([[1, 2, 3],\n",
            "        [4, 5, 6],\n",
            "        [7, 8, 9]])\n",
            "tensor([1, 2, 3])\n",
            "tensor(1)\n"
          ]
        }
      ]
    },
    {
      "cell_type": "code",
      "source": [
        "#however, there is also another same way to do things\n",
        "import torch\n",
        "x = torch.arange(1,10).reshape(1,3,3)\n",
        "print(x)\n",
        "print()\n",
        "print(x[0]) #first element of the multi-dimensionals element\n",
        "print(x[0,0]) #first row of the first multi-dimensional element\n",
        "print(x[0,0,0]) #first element of the first multi-dimensional element"
      ],
      "metadata": {
        "colab": {
          "base_uri": "https://localhost:8080/"
        },
        "id": "QxZWWj1KzGap",
        "outputId": "7e50069d-ee68-4e47-9bf3-c931c1051c11"
      },
      "execution_count": null,
      "outputs": [
        {
          "output_type": "stream",
          "name": "stdout",
          "text": [
            "tensor([[[1, 2, 3],\n",
            "         [4, 5, 6],\n",
            "         [7, 8, 9]]])\n",
            "\n",
            "tensor([[1, 2, 3],\n",
            "        [4, 5, 6],\n",
            "        [7, 8, 9]])\n",
            "tensor([1, 2, 3])\n",
            "tensor(1)\n"
          ]
        }
      ]
    },
    {
      "cell_type": "code",
      "source": [
        "#you can also use ':' to select ALL of the target dimension\n",
        "x = torch.arange(1,10).reshape(1,3,3)\n",
        "print(x)\n",
        "print()\n",
        "print(x[0]) #first element of the multi-dimensionals element\n",
        "print(x[0,0]) #first row of the first multi-dimensional element\n",
        "print(x[0,1,:]) #return all the elements of the second row"
      ],
      "metadata": {
        "colab": {
          "base_uri": "https://localhost:8080/"
        },
        "id": "tVjCSqZk0AKh",
        "outputId": "ce8a7813-a867-49f0-b048-81e7d9069aa4"
      },
      "execution_count": null,
      "outputs": [
        {
          "output_type": "stream",
          "name": "stdout",
          "text": [
            "tensor([[[1, 2, 3],\n",
            "         [4, 5, 6],\n",
            "         [7, 8, 9]]])\n",
            "\n",
            "tensor([[1, 2, 3],\n",
            "        [4, 5, 6],\n",
            "        [7, 8, 9]])\n",
            "tensor([1, 2, 3])\n",
            "tensor([4, 5, 6])\n"
          ]
        }
      ]
    },
    {
      "cell_type": "markdown",
      "source": [
        "### Pythorch & numpy\n",
        "\n",
        "Numpy is a popular scientific Python numerical library.\n",
        "\n",
        "And because of that, Pythorch has functionality to interact with it.\n",
        "\n",
        "* Data in numpy, want in Pythoch tensor--> torch.from_numpy(ndarray)\n",
        "\n",
        "* Data in pythoch, want in numpy --> torch.Tensor.numpy()"
      ],
      "metadata": {
        "id": "FHBQobkT18Zq"
      }
    },
    {
      "cell_type": "code",
      "source": [
        "#numpy array to tensor\n",
        "import torch\n",
        "import numpy as np\n",
        "array = np.arange(1.0,8.0)\n",
        "#we can notice that default numpy data type is float64, but, on Pythorch, the default data type is float32\n",
        "tensor = torch.from_numpy(array).type(torch.float32)\n",
        "print(array)\n",
        "print(tensor)"
      ],
      "metadata": {
        "colab": {
          "base_uri": "https://localhost:8080/"
        },
        "id": "8zD9Bpvp2izo",
        "outputId": "e71d6ac7-73b2-4d7b-f49a-fb19c16a6e80"
      },
      "execution_count": null,
      "outputs": [
        {
          "output_type": "stream",
          "name": "stdout",
          "text": [
            "[1. 2. 3. 4. 5. 6. 7.]\n",
            "tensor([1., 2., 3., 4., 5., 6., 7.])\n"
          ]
        }
      ]
    },
    {
      "cell_type": "code",
      "source": [
        "#to tensor to numpy array\n",
        "x = torch.arange(1.,10)\n",
        "numpy_tensor = x.numpy()\n",
        "print(x,x.dtype)\n",
        "print(numpy_tensor,type(numpy_tensor))"
      ],
      "metadata": {
        "colab": {
          "base_uri": "https://localhost:8080/"
        },
        "id": "VM5x5sXg2vOx",
        "outputId": "13b1ddde-28ec-421c-ae96-b77fdf3d9d8c"
      },
      "execution_count": null,
      "outputs": [
        {
          "output_type": "stream",
          "name": "stdout",
          "text": [
            "tensor([1., 2., 3., 4., 5., 6., 7., 8., 9.]) torch.float32\n",
            "[1. 2. 3. 4. 5. 6. 7. 8. 9.] <class 'numpy.ndarray'>\n"
          ]
        }
      ]
    },
    {
      "cell_type": "markdown",
      "source": [
        "## Reproducibility (trying to take random out of random)\n",
        "\n",
        "In short how NN networks learn:\n",
        "\n",
        "- start with random numbers --> tensor operations --> update random numbers to try to make a better representation of the data --> repeat()\n",
        "\n",
        "However, maybe sometimes we want to reproduce the random numbers.\n",
        "\n",
        "To reduce the randomness in NN, it comes the concept of random **seed**.\n",
        "\n",
        "Essentially what the random seed does is \"flavour\" the randomness.\n"
      ],
      "metadata": {
        "id": "dPCbSsq_Ezxp"
      }
    },
    {
      "cell_type": "code",
      "source": [
        "import torch\n",
        "\n",
        "#create 2 random tensors\n",
        "random_tensor_A = torch.rand(3,4)\n",
        "random_tensor_B = torch.rand(3,4)\n",
        "\n",
        "print(random_tensor_A)\n",
        "print(random_tensor_B)\n",
        "#apply a mask of elements\n",
        "print(random_tensor_A == random_tensor_B)"
      ],
      "metadata": {
        "colab": {
          "base_uri": "https://localhost:8080/"
        },
        "id": "_bod6qDzFSfv",
        "outputId": "b2f234b6-feaa-4cf7-a83d-145393b9eda2"
      },
      "execution_count": null,
      "outputs": [
        {
          "output_type": "stream",
          "name": "stdout",
          "text": [
            "tensor([[0.6744, 0.7109, 0.4467, 0.7398],\n",
            "        [0.7074, 0.2502, 0.8739, 0.5344],\n",
            "        [0.5351, 0.7722, 0.5964, 0.0882]])\n",
            "tensor([[0.5050, 0.7701, 0.9365, 0.4082],\n",
            "        [0.0770, 0.4195, 0.7143, 0.1091],\n",
            "        [0.3481, 0.0194, 0.1379, 0.4466]])\n",
            "tensor([[False, False, False, False],\n",
            "        [False, False, False, False],\n",
            "        [False, False, False, False]])\n"
          ]
        }
      ]
    },
    {
      "cell_type": "code",
      "source": [
        "#lets make some random but reproducible tensors\n",
        "import torch\n",
        "\n",
        "#set random seed\n",
        "torch.manual_seed(42) #each time we call a random method\n",
        "random_tensor_C = torch.rand(3,4)\n",
        "\n",
        "#set random seed\n",
        "torch.manual_seed(42)#each time we call a random method\n",
        "random_tensor_D = torch.rand(3,4)\n",
        "\n",
        "print(random_tensor_C)\n",
        "print(random_tensor_D)\n",
        "\n",
        "#interesting\n",
        "print(random_tensor_C == random_tensor_D)"
      ],
      "metadata": {
        "colab": {
          "base_uri": "https://localhost:8080/"
        },
        "id": "SuiguhRMF1jR",
        "outputId": "383396c3-ffb2-481f-bec5-8ee642dd4fe7"
      },
      "execution_count": null,
      "outputs": [
        {
          "output_type": "stream",
          "name": "stdout",
          "text": [
            "tensor([[0.8823, 0.9150, 0.3829, 0.9593],\n",
            "        [0.3904, 0.6009, 0.2566, 0.7936],\n",
            "        [0.9408, 0.1332, 0.9346, 0.5936]])\n",
            "tensor([[0.8823, 0.9150, 0.3829, 0.9593],\n",
            "        [0.3904, 0.6009, 0.2566, 0.7936],\n",
            "        [0.9408, 0.1332, 0.9346, 0.5936]])\n",
            "tensor([[True, True, True, True],\n",
            "        [True, True, True, True],\n",
            "        [True, True, True, True]])\n"
          ]
        }
      ]
    },
    {
      "cell_type": "markdown",
      "source": [
        "## Running tensors and Pythorch objects on the GPUS in order to gain faster computation\n"
      ],
      "metadata": {
        "id": "1IL8gwUpHvMW"
      }
    },
    {
      "cell_type": "markdown",
      "source": [
        "### 1. Getting a GPU\n",
        "\n",
        "- Use google colab is the easiest way (options to upgrade) --> start to learn and test new ideas.\n",
        "- Use your own GPU. Requires your investment.\n",
        "- Use cloud computing: GCP, AWS, Azure...\n",
        "\n",
        "For 2, 3 Pythorch + GPU drivers (CUDA), refers to Pythorch documentation."
      ],
      "metadata": {
        "id": "mWrAu5itH6uT"
      }
    },
    {
      "cell_type": "code",
      "source": [
        "!nvidia-smi"
      ],
      "metadata": {
        "colab": {
          "base_uri": "https://localhost:8080/"
        },
        "id": "LuDJlOKOH1Xq",
        "outputId": "e8ea3d1e-c162-4c5f-f74f-5d9bfd0c91c5"
      },
      "execution_count": null,
      "outputs": [
        {
          "output_type": "stream",
          "name": "stdout",
          "text": [
            "Sun Jun 23 07:44:35 2024       \n",
            "+---------------------------------------------------------------------------------------+\n",
            "| NVIDIA-SMI 535.104.05             Driver Version: 535.104.05   CUDA Version: 12.2     |\n",
            "|-----------------------------------------+----------------------+----------------------+\n",
            "| GPU  Name                 Persistence-M | Bus-Id        Disp.A | Volatile Uncorr. ECC |\n",
            "| Fan  Temp   Perf          Pwr:Usage/Cap |         Memory-Usage | GPU-Util  Compute M. |\n",
            "|                                         |                      |               MIG M. |\n",
            "|=========================================+======================+======================|\n",
            "|   0  Tesla T4                       Off | 00000000:00:04.0 Off |                    0 |\n",
            "| N/A   47C    P8              10W /  70W |      0MiB / 15360MiB |      0%      Default |\n",
            "|                                         |                      |                  N/A |\n",
            "+-----------------------------------------+----------------------+----------------------+\n",
            "                                                                                         \n",
            "+---------------------------------------------------------------------------------------+\n",
            "| Processes:                                                                            |\n",
            "|  GPU   GI   CI        PID   Type   Process name                            GPU Memory |\n",
            "|        ID   ID                                                             Usage      |\n",
            "|=======================================================================================|\n",
            "|  No running processes found                                                           |\n",
            "+---------------------------------------------------------------------------------------+\n"
          ]
        }
      ]
    },
    {
      "cell_type": "code",
      "source": [
        "#check for GPU access in pythorch\n",
        "import torch\n",
        "torch.cuda.is_available()"
      ],
      "metadata": {
        "colab": {
          "base_uri": "https://localhost:8080/"
        },
        "id": "sb_daDvEJDzC",
        "outputId": "1e3f8b8f-4b57-4f0c-f699-13116eab20eb"
      },
      "execution_count": null,
      "outputs": [
        {
          "output_type": "execute_result",
          "data": {
            "text/plain": [
              "True"
            ]
          },
          "metadata": {},
          "execution_count": 3
        }
      ]
    },
    {
      "cell_type": "markdown",
      "source": [
        "In PyTorch, the CUDA module refers to the functionality that allows tensors and operations to be executed on NVIDIA GPUs (Graphics Processing Units). CUDA (Compute Unified Device Architecture) is NVIDIA's parallel computing platform and programming model that enables dramatic increases in computing performance by harnessing the power of GPUs.\n",
        "\n",
        "Here’s what the CUDA module in PyTorch allows you to do:\n",
        "\n",
        "GPU Tensor Types: PyTorch provides tensor types (torch.cuda.FloatTensor, torch.cuda.DoubleTensor, etc.) that utilize CUDA-capable GPUs for computation. These tensors reside in the GPU memory and allow for high-speed parallel computations.\n",
        "\n",
        "CUDA Operations: PyTorch operations and functions can automatically operate on CUDA tensors, leveraging the parallel computing capability of the GPU. This includes standard tensor operations like arithmetic operations (+, -, *, /), linear algebra operations (matmul, svd, etc.), and neural network operations (convolutions, activations, etc.).\n",
        "\n",
        "Device Management: PyTorch provides utilities to manage GPU devices, such as moving tensors between CPU and GPU memory (to('cuda'), to('cpu'), cuda()).\n",
        "\n",
        "CUDA Streams: Streams allow for concurrent execution of operations on the GPU, which can improve performance by overlapping computations and communications.\n",
        "\n",
        "Usage typically involves checking for GPU availability (torch.cuda.is_available()) and then transferring tensors and computations to the GPU using CUDA tensors (torch.cuda.FloatTensor). This capability is crucial for accelerating computations in deep learning, where operations on large tensors can be significantly faster on GPUs compared to CPUs."
      ],
      "metadata": {
        "id": "wwTRLNlHJuCO"
      }
    },
    {
      "cell_type": "markdown",
      "source": [
        "Best practice to set device agnostic code."
      ],
      "metadata": {
        "id": "uFS8DHILF2uS"
      }
    },
    {
      "cell_type": "code",
      "source": [
        "#Setup device agnostic code\n",
        "device = \"cuda\" if torch.cuda.is_available() else \"cpu\"\n",
        "device"
      ],
      "metadata": {
        "colab": {
          "base_uri": "https://localhost:8080/",
          "height": 36
        },
        "id": "hTBSWOclFTRQ",
        "outputId": "5bea17df-1708-4c57-81e6-2c71a2520920"
      },
      "execution_count": null,
      "outputs": [
        {
          "output_type": "execute_result",
          "data": {
            "text/plain": [
              "'cuda'"
            ],
            "application/vnd.google.colaboratory.intrinsic+json": {
              "type": "string"
            }
          },
          "metadata": {},
          "execution_count": 4
        }
      ]
    },
    {
      "cell_type": "code",
      "source": [
        "#Count the number of devices\n",
        "torch.cuda.device_count()\n",
        "#if we are running a lot of models, maybe we are interested in running models in different devices"
      ],
      "metadata": {
        "colab": {
          "base_uri": "https://localhost:8080/"
        },
        "id": "FUBi00VXFgtN",
        "outputId": "1401a5ea-6516-4a96-d14e-09155b5b3fa6"
      },
      "execution_count": null,
      "outputs": [
        {
          "output_type": "execute_result",
          "data": {
            "text/plain": [
              "1"
            ]
          },
          "metadata": {},
          "execution_count": 5
        }
      ]
    },
    {
      "cell_type": "markdown",
      "source": [
        "## Check the devices that are available, and send our tensors to the GPU\n",
        "\n",
        "The reason we want our tensor/models on the GPU is because using a GPU results in faster computation."
      ],
      "metadata": {
        "id": "1L8v4-KOF-he"
      }
    },
    {
      "cell_type": "code",
      "source": [
        "#create a tensor (default is on CPU)\n",
        "tensor = torch.tensor([1,2,3])\n",
        "\n",
        "print(tensor,tensor.device)"
      ],
      "metadata": {
        "colab": {
          "base_uri": "https://localhost:8080/"
        },
        "id": "tqNGxcglGDgA",
        "outputId": "76493981-3ed2-41f2-bf02-b3c71980be94"
      },
      "execution_count": null,
      "outputs": [
        {
          "output_type": "stream",
          "name": "stdout",
          "text": [
            "tensor([1, 2, 3]) cpu\n"
          ]
        }
      ]
    },
    {
      "cell_type": "code",
      "source": [
        "device = \"cuda\" if torch.cuda.is_available() else \"cpu\"\n",
        "device"
      ],
      "metadata": {
        "colab": {
          "base_uri": "https://localhost:8080/",
          "height": 36
        },
        "id": "SpnlzRnbGiVh",
        "outputId": "2cb838a2-8e90-4eeb-dc3d-8cff62dc4f91"
      },
      "execution_count": null,
      "outputs": [
        {
          "output_type": "execute_result",
          "data": {
            "text/plain": [
              "'cuda'"
            ],
            "application/vnd.google.colaboratory.intrinsic+json": {
              "type": "string"
            }
          },
          "metadata": {},
          "execution_count": 7
        }
      ]
    },
    {
      "cell_type": "code",
      "source": [
        "#so, lets try right now to move the tensor to the GPU (if available)\n",
        "tensor_on_gpu = tensor.to(device)\n",
        "print(tensor_on_gpu,tensor_on_gpu.device)"
      ],
      "metadata": {
        "colab": {
          "base_uri": "https://localhost:8080/"
        },
        "id": "ucAu-pUSGZgh",
        "outputId": "864c650d-7142-4de8-c106-f5bee6656549"
      },
      "execution_count": null,
      "outputs": [
        {
          "output_type": "stream",
          "name": "stdout",
          "text": [
            "tensor([1, 2, 3], device='cuda:0') cuda:0\n"
          ]
        }
      ]
    },
    {
      "cell_type": "code",
      "source": [
        "#sometimes is quit useful to move tensors back to CPU\n",
        "tensor_back_on_cpu = tensor_on_gpu.cpu().numpy()\n",
        "tensor_back_on_cpu"
      ],
      "metadata": {
        "id": "YYf7p7H5G48h"
      },
      "execution_count": null,
      "outputs": []
    },
    {
      "cell_type": "markdown",
      "source": [
        "## Exercises"
      ],
      "metadata": {
        "id": "VsMGI9oDHobf"
      }
    },
    {
      "cell_type": "markdown",
      "source": [
        "- Read documentation: torch.tensor and torch.cuda\n",
        "- Create a random tensor of dimensions 7x7\n",
        "- Do a matrix multiplication between 7x7 and 1x7 tensor\n",
        "- Seed the random seed to 0, and re-do 2&3 again"
      ],
      "metadata": {
        "id": "5EdqfXcaHwyd"
      }
    },
    {
      "cell_type": "code",
      "source": [
        "tensor1 = torch.rand(size=(7,7))\n",
        "print(tensor1)\n",
        "\n",
        "tensor2 =torch.rand(size=(1,7))\n",
        "print(tensor2)\n",
        "\n",
        "result = torch.matmul(tensor1,tensor2.T)\n",
        "print(result)"
      ],
      "metadata": {
        "colab": {
          "base_uri": "https://localhost:8080/"
        },
        "id": "XbuqEqdcHn3w",
        "outputId": "abcd87ba-27f6-4b53-9e75-be5239d9c00c"
      },
      "execution_count": null,
      "outputs": [
        {
          "output_type": "stream",
          "name": "stdout",
          "text": [
            "tensor([[0.3473, 0.9599, 0.0422, 0.4657, 0.2677, 0.6838, 0.2585],\n",
            "        [0.3454, 0.8703, 0.4757, 0.9442, 0.8355, 0.4356, 0.4150],\n",
            "        [0.3324, 0.6874, 0.5072, 0.3910, 0.0069, 0.0433, 0.4350],\n",
            "        [0.5150, 0.2570, 0.5699, 0.6565, 0.8607, 0.1064, 0.0895],\n",
            "        [0.1583, 0.9486, 0.7027, 0.8432, 0.8360, 0.3664, 0.7479],\n",
            "        [0.4885, 0.6157, 0.8036, 0.0721, 0.0811, 0.0237, 0.6455],\n",
            "        [0.0999, 0.3563, 0.3750, 0.7613, 0.4400, 0.9530, 0.5962]])\n",
            "tensor([[0.4089, 0.2878, 0.0227, 0.2326, 0.6434, 0.2474, 0.2769]])\n",
            "tensor([[0.9405],\n",
            "        [1.3823],\n",
            "        [0.5718],\n",
            "        [1.0551],\n",
            "        [1.3854],\n",
            "        [0.6488],\n",
            "        [1.0129]])\n"
          ]
        }
      ]
    },
    {
      "cell_type": "code",
      "source": [
        "torch.manual_seed(0) #each time we call a random method\n",
        "tensor1 = torch.rand(size=(7,7))\n",
        "print(tensor1)\n",
        "print()\n",
        "\n",
        "\n",
        "torch.manual_seed(0) #each time we call a random method\n",
        "tensor2 =torch.rand(size=(1,7))\n",
        "print(tensor2)\n",
        "print()\n",
        "\n",
        "result = torch.matmul(tensor1,tensor2.T)\n",
        "print(result)"
      ],
      "metadata": {
        "colab": {
          "base_uri": "https://localhost:8080/"
        },
        "id": "0UpfbhXZIkO8",
        "outputId": "22fd596f-486a-47ca-9e95-1f4ce38f7d32"
      },
      "execution_count": null,
      "outputs": [
        {
          "output_type": "stream",
          "name": "stdout",
          "text": [
            "tensor([[0.4963, 0.7682, 0.0885, 0.1320, 0.3074, 0.6341, 0.4901],\n",
            "        [0.8964, 0.4556, 0.6323, 0.3489, 0.4017, 0.0223, 0.1689],\n",
            "        [0.2939, 0.5185, 0.6977, 0.8000, 0.1610, 0.2823, 0.6816],\n",
            "        [0.9152, 0.3971, 0.8742, 0.4194, 0.5529, 0.9527, 0.0362],\n",
            "        [0.1852, 0.3734, 0.3051, 0.9320, 0.1759, 0.2698, 0.1507],\n",
            "        [0.0317, 0.2081, 0.9298, 0.7231, 0.7423, 0.5263, 0.2437],\n",
            "        [0.5846, 0.0332, 0.1387, 0.2422, 0.8155, 0.7932, 0.2783]])\n",
            "\n",
            "tensor([[0.4963, 0.7682, 0.0885, 0.1320, 0.3074, 0.6341, 0.4901]])\n",
            "\n",
            "tensor([[1.5985],\n",
            "        [1.1173],\n",
            "        [1.2741],\n",
            "        [1.6838],\n",
            "        [0.8279],\n",
            "        [1.0347],\n",
            "        [1.2498]])\n"
          ]
        }
      ]
    }
  ]
}