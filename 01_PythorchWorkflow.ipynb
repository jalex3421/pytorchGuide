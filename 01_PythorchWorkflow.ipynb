{
  "nbformat": 4,
  "nbformat_minor": 0,
  "metadata": {
    "colab": {
      "provenance": [],
      "gpuType": "T4"
    },
    "kernelspec": {
      "name": "python3",
      "display_name": "Python 3"
    },
    "language_info": {
      "name": "python"
    },
    "accelerator": "GPU"
  },
  "cells": [
    {
      "cell_type": "markdown",
      "source": [
        "# Pythorch Workflow\n",
        "\n",
        "Lets explore a Pythorch end-to-end workflow!!"
      ],
      "metadata": {
        "id": "muuXUsZpTBYE"
      }
    },
    {
      "cell_type": "markdown",
      "source": [
        "Author: Alejandro Meza"
      ],
      "metadata": {
        "id": "FXfSdW_I8jag"
      }
    },
    {
      "cell_type": "code",
      "source": [
        "what_we_are_covering={1:\"data prepare and loading\",\n",
        "                      2:\"build model\",\n",
        "                      3:\"fit the model to the data\",\n",
        "                      4:\"make predictions (inference)\",\n",
        "                      5:\"saving and load the model\",\n",
        "                      6:\"putting it all together\"}\n",
        "what_we_are_covering"
      ],
      "metadata": {
        "colab": {
          "base_uri": "https://localhost:8080/"
        },
        "id": "-svmZf98TTtz",
        "outputId": "75fee2ab-8008-41cd-f814-553c2a6f34ab"
      },
      "execution_count": null,
      "outputs": [
        {
          "output_type": "execute_result",
          "data": {
            "text/plain": [
              "{1: 'data prepare and loading',\n",
              " 2: 'build model',\n",
              " 3: 'fit the model to the data',\n",
              " 4: 'make predictions (inference)',\n",
              " 5: 'saving and load the model',\n",
              " 6: 'putting it all together'}"
            ]
          },
          "metadata": {},
          "execution_count": 2
        }
      ]
    },
    {
      "cell_type": "code",
      "source": [
        "import torch\n",
        "from torch import nn #nn contains all of Pythorch's builiding blocks for neural networks\n",
        "import matplotlib.pyplot as plt\n",
        "\n",
        "torch.__version__"
      ],
      "metadata": {
        "colab": {
          "base_uri": "https://localhost:8080/",
          "height": 35
        },
        "id": "NJTvl6XST3E-",
        "outputId": "95b070b0-f236-462b-99c6-65a3771738d5"
      },
      "execution_count": null,
      "outputs": [
        {
          "output_type": "execute_result",
          "data": {
            "text/plain": [
              "'2.3.0+cu121'"
            ],
            "application/vnd.google.colaboratory.intrinsic+json": {
              "type": "string"
            }
          },
          "metadata": {},
          "execution_count": 3
        }
      ]
    },
    {
      "cell_type": "markdown",
      "source": [
        "## 1. Data (Preparing data and loading to the model )\n",
        "\n",
        "Data can be almost anything:\n",
        "\n",
        "- Excel\n",
        "- Images of any kind\n",
        "- Videos\n",
        "- Audio like songs or podcasts\n",
        "- DNA\n",
        "- Text\n",
        "\n",
        "Machine learning is a game of 2 parts:\n",
        "- get data into numerical representation\n",
        "- build a model to learn patterns about that numbers"
      ],
      "metadata": {
        "id": "Add5jwJcUk8f"
      }
    },
    {
      "cell_type": "code",
      "source": [
        "#lets create some known data using the linear regression formula Y=a+bX !!\n",
        "\n",
        "\n",
        "#1)Create the data\n",
        "weight=0.7  #b\n",
        "bias=0.3    #a\n",
        "\n",
        "#create rangte of numbers\n",
        "start=0\n",
        "end=1\n",
        "step=0.02\n",
        "#define a tensor\n",
        "X=torch.arange(start,end,step).unsqueeze(dim=1)\n",
        "y=weight*X+bias\n",
        "\n",
        "X[:10],y[:10]"
      ],
      "metadata": {
        "colab": {
          "base_uri": "https://localhost:8080/"
        },
        "id": "0K01wq7EUX7t",
        "outputId": "ae862f9f-bda9-400a-c1e7-ce9b6b7835df"
      },
      "execution_count": null,
      "outputs": [
        {
          "output_type": "execute_result",
          "data": {
            "text/plain": [
              "(tensor([[0.0000],\n",
              "         [0.0200],\n",
              "         [0.0400],\n",
              "         [0.0600],\n",
              "         [0.0800],\n",
              "         [0.1000],\n",
              "         [0.1200],\n",
              "         [0.1400],\n",
              "         [0.1600],\n",
              "         [0.1800]]),\n",
              " tensor([[0.3000],\n",
              "         [0.3140],\n",
              "         [0.3280],\n",
              "         [0.3420],\n",
              "         [0.3560],\n",
              "         [0.3700],\n",
              "         [0.3840],\n",
              "         [0.3980],\n",
              "         [0.4120],\n",
              "         [0.4260]]))"
            ]
          },
          "metadata": {},
          "execution_count": 4
        }
      ]
    },
    {
      "cell_type": "code",
      "source": [
        "len(X),len(y)"
      ],
      "metadata": {
        "colab": {
          "base_uri": "https://localhost:8080/"
        },
        "id": "MIVDjqhAV_ch",
        "outputId": "6e1006b6-f0b7-4ed6-d215-c3345f473749"
      },
      "execution_count": null,
      "outputs": [
        {
          "output_type": "execute_result",
          "data": {
            "text/plain": [
              "(50, 50)"
            ]
          },
          "metadata": {},
          "execution_count": 5
        }
      ]
    },
    {
      "cell_type": "markdown",
      "source": [
        "We are gonna build a model, that, having some values of X, is able to associate which value of Y should be have."
      ],
      "metadata": {
        "id": "JsQlZH7CWG_K"
      }
    },
    {
      "cell_type": "markdown",
      "source": [
        "## Split data into training and test set\n",
        "\n",
        "Normally, we have 3 datasets:\n",
        "\n",
        "- Training set: course materials (60-80%)\n",
        "- Validation set: mock sets  -> tune model patterns  (10-20%)\n",
        "- Test: final exam   -> see if the model is ready for the wild --> generalization (10-20%)\n",
        "\n",
        "Generalization: ability of ML model to perform well on data it has not seen before."
      ],
      "metadata": {
        "id": "Y7kvb7oFWldz"
      }
    },
    {
      "cell_type": "code",
      "source": [
        "#lets create a training and test data\n",
        "train_split=int(0.7*len(X)) #define the proportions\n",
        "X_train,y_train=X[:train_split],y[:train_split]\n",
        "X_test,y_test=X[train_split:],y[train_split:]\n",
        "\n",
        "len(X_train),len(y_train),len(X_test),len(y_test)"
      ],
      "metadata": {
        "colab": {
          "base_uri": "https://localhost:8080/"
        },
        "id": "oHo0UGJeWM7d",
        "outputId": "f2e9eb88-aef8-4cdc-a3eb-bddf6ba1bfe8"
      },
      "execution_count": null,
      "outputs": [
        {
          "output_type": "execute_result",
          "data": {
            "text/plain": [
              "(35, 35, 15, 15)"
            ]
          },
          "metadata": {},
          "execution_count": 6
        }
      ]
    },
    {
      "cell_type": "code",
      "source": [
        "#lets visualize the set of data in a better way\n",
        "def plot_predictions(train_data=X_train,\n",
        "                  train_labels=y_train,\n",
        "                  test_data=X_test,\n",
        "                  test_labels=y_test,\n",
        "                  predictions=None):\n",
        "\n",
        "  plt.figure(figsize=(6,6))\n",
        "\n",
        "  #train data in blue\n",
        "  plt.scatter(train_data,train_labels,c=\"b\",s=4,label=\"Training data\")\n",
        "  #prediction data in red\n",
        "  plt.scatter(test_data,test_labels,c=\"r\",s=4,label=\"Test data\")\n",
        "\n",
        "  if predictions is not None:\n",
        "    plt.scatter(test_data,predictions,c=\"g\",s=4,label=\"Predictions\")\n",
        "\n",
        "  plt.legend(prop={\"size\":14})"
      ],
      "metadata": {
        "id": "P4bNk54GYHXB"
      },
      "execution_count": null,
      "outputs": []
    },
    {
      "cell_type": "code",
      "source": [
        "plot_predictions(X_train,\n",
        "                  y_train,\n",
        "                  X_test,\n",
        "                  y_test)"
      ],
      "metadata": {
        "colab": {
          "base_uri": "https://localhost:8080/",
          "height": 522
        },
        "id": "wDa5vukMAN9w",
        "outputId": "ee12c5d4-a5c8-45ff-9cef-2058256b6df9"
      },
      "execution_count": null,
      "outputs": [
        {
          "output_type": "display_data",
          "data": {
            "text/plain": [
              "<Figure size 600x600 with 1 Axes>"
            ],
            "image/png": "[encoded data removed]"
          },
          "metadata": {}
        }
      ]
    },
    {
      "cell_type": "markdown",
      "source": [
        "##Lets build a regression model!!\n",
        "\n",
        "Some important concepts:\n",
        "- nn.Parameter: paremeters are TENSOR subclasses, that have a very special property. They are automatically added to the module parameters list, and will appear in the parameter() iterator.\n",
        "-requires_grad: if the parameter requires gradient to improve its value over iterations.\n",
        "\n",
        "The **goal** of the implementation, is to start with random values as weight, and bias, and while looking at the training set, find patters, and improve little by little the model performance to be able to predict over unknown data.\n",
        "\n",
        "How to do so? Through 2 main algorithms:\n",
        "- gradient descent\n",
        "- back propagation"
      ],
      "metadata": {
        "id": "cPUNb2S3B2Aa"
      }
    },
    {
      "cell_type": "code",
      "source": [
        "#create a linear regression class\n",
        "from torch import nn\n",
        "\n",
        "#your model always should subclass NN.module: contains all the building blocks for neural networks\n",
        "\n",
        "class LinearRegressionModel(nn.Module): #almost everything in pythorch inheriths from that module\n",
        "  def __init__(self):\n",
        "    super().__init__()\n",
        "    #initialize the parameters: define variables, layers, hard-codes values ...\n",
        "    self.weights=nn.Parameter(torch.randn(1, #only create a random weight\n",
        "                                          requires_grad=True, #tell that we can upgrade by gradient descent--> track gradient\n",
        "                                          dtype=torch.float))\n",
        "\n",
        "    self.bias=nn.Parameter(torch.randn(1, #create a random bias value\n",
        "                                       requires_grad=True, #tell that we can upgrade by gradient descent--> track gradient\n",
        "                                       dtype=torch.float))\n",
        "\n",
        "  #any subclass of nn.Module requires a forward method/forward compuation method to the model\n",
        "  #forward method: define the input parameter as tensor X, and the output as a Tensor\n",
        "  def forward(self,x:torch.Tensor) -> torch.Tensor:\n",
        "    return self.weights*x+self.bias"
      ],
      "metadata": {
        "id": "8V-SDjHBBYLN"
      },
      "execution_count": null,
      "outputs": []
    },
    {
      "cell_type": "markdown",
      "source": [
        "###Understanding nn.Module and Parameter Tracking\n",
        "\n",
        "\n",
        "Inheritance from nn.Module:\n",
        "\n",
        "When you define a class that inherits from nn.Module, as in class LinearRegressionModel(nn.Module):, you are leveraging PyTorch's neural network building blocks.\n",
        "nn.Module provides functionalities that facilitate parameter management, tracking of gradients, and integration into PyTorch's computational graph.\n",
        "Parameter Initialization:\n",
        "\n",
        "Within your __init__ method, parameters like self.weights and self.bias are defined as instances of nn.Parameter. This is a subclass of torch.Tensor specifically designed to be a model parameter.\n",
        "By setting requires_grad=True, you explicitly tell PyTorch to compute gradients for these parameters during backpropagation.\n",
        "Forward Method:\n",
        "\n",
        "The forward method is where you define the computation that your model performs on input data (x). In your case, it's a simple linear transformation (self.weights * x + self.bias).\n",
        "Gradient Tracking Mechanism:\n",
        "\n",
        "When you call methods like loss.backward() during training, PyTorch traces back through the operations that produced the loss, calculating gradients for all tensors that have requires_grad=True.\n",
        "Parameters defined as nn.Parameter within an nn.Module subclass are automatically registered to the model and tracked by PyTorch. This registration ensures that their gradients are computed and updated correctly during training.\n",
        "No Context Manager Needed:\n",
        "\n",
        "PyTorch manages gradient tracking internally without needing an explicit context manager for each parameter. When you define parameters as nn.Parameter and specify requires_grad=True, PyTorch handles the gradient computation seamlessly.\n",
        "The context of parameter tracking and gradient computation is managed globally within PyTorch's computational graph, which dynamically tracks dependencies and gradients during the forward and backward passes.\n",
        "\n",
        "###Undertanding Pythorch computation graph\n",
        "\n",
        "**What is a Computational Graph?**\n",
        "\n",
        "\n",
        "A computational graph is a way to visualize and organize the sequence of mathematical operations that occur in a computational process. In PyTorch, computational graphs are dynamically created during the execution of your program. They represent the flow of data and operations from input tensors through intermediate calculations to output tensors.\n",
        "\n",
        "**Key Components of PyTorch Computational Graph:**\n",
        "\n",
        "Nodes:\n",
        "\n",
        "Nodes in the computational graph represent operations or calculations. These operations can be tensor operations (like addition, multiplication), function calls (like activations or loss functions), or even control flow constructs (like loops or conditionals).\n",
        "Edges:\n",
        "\n",
        "Edges in the graph represent dependencies between nodes. They indicate how the output of one operation flows into the input of another operation. Essentially, edges denote the flow of data through the computation.\n",
        "Variables:\n",
        "\n",
        "In PyTorch, tensors that require gradients (requires_grad=True) are marked as variables in the computational graph. These variables are nodes in the graph that store data (tensors) and gradients (for backpropagation).\n",
        "Computational Flow:\n",
        "\n",
        "When you perform operations on tensors with requires_grad=True, PyTorch automatically tracks these operations and constructs a computational graph dynamically. This graph records the sequence of operations that were applied to compute the final output from the input."
      ],
      "metadata": {
        "id": "eVbJdQElOsVu"
      }
    },
    {
      "cell_type": "markdown",
      "source": [
        "### Pythorch model building essentials\n",
        "\n",
        "- torch.nn --> contains all of the buildings for neural networks\n",
        "- toch.nn.Parameter --> parameters that our model should learn\n",
        "- torch.nn.Module --> the base class for all neural network modules\n",
        "- torch.optim --> optimizer that helps with gradient descent --> optimize random values\n",
        "- def forward() --> all nn.Module subclasses require you to overrride forward computation.\n",
        "- torch.utils.data.Dataset --> represents a map between key (label) and sample (feautures) pair of your data. Such as images and their labels.\n",
        "- torch.utils.data.DataLoader --> creates a Python iterable over a torch DataSet (allows to iterate over data)"
      ],
      "metadata": {
        "id": "CkPEHLPlG55x"
      }
    },
    {
      "cell_type": "markdown",
      "source": [
        "### Checking the contents of our Python model\n",
        "\n",
        "Now, that we have created a model, let's see what is inside...\n",
        "\n",
        "So we can check our model parameters, or what's inside our model using .parameters()."
      ],
      "metadata": {
        "id": "oIB52RLtfcTH"
      }
    },
    {
      "cell_type": "code",
      "source": [
        "# Create a random seed\n",
        "\n",
        "#with, this, the randomness of the weight creation has gone\n",
        "torch.manual_seed(42)\n",
        "\n",
        "#create an instance of the model: subclass of the nn.Module\n",
        "model_0=LinearRegressionModel()\n",
        "\n",
        "#check out the parameters of the model\n",
        "print(list(model_0.parameters()))\n",
        "\n",
        "#so, our goal is to improve the random values to the target ones! (weight=0.7,bias=0.3)\n",
        "print(model_0.state_dict())"
      ],
      "metadata": {
        "colab": {
          "base_uri": "https://localhost:8080/"
        },
        "id": "zHAJWbb-eno7",
        "outputId": "0ac4950e-f39f-436e-9b71-727b6c98351c"
      },
      "execution_count": null,
      "outputs": [
        {
          "output_type": "stream",
          "name": "stdout",
          "text": [
            "[Parameter containing:\n",
            "tensor([0.3367], requires_grad=True), Parameter containing:\n",
            "tensor([0.1288], requires_grad=True)]\n",
            "OrderedDict([('weights', tensor([0.3367])), ('bias', tensor([0.1288]))])\n"
          ]
        }
      ]
    },
    {
      "cell_type": "markdown",
      "source": [
        "### Making predictions using 'torch.inference_mode()'\n",
        "\n",
        "To check out model's predictive power, let's see how well it predicts 'y_test' based on 'X_test'.\n",
        "\n",
        "When we pass data through our model, its going to run through the forward method."
      ],
      "metadata": {
        "id": "2-Gt3uHghhQG"
      }
    },
    {
      "cell_type": "code",
      "source": [
        "#make prediction with the model\n",
        "with torch.inference_mode(): #context manager:remove gradient tracking --> y_preds=model_0(X_test) --> track gradient, so its slower\n",
        "  y_preds=model_0(X_test)\n",
        "print(y_preds)"
      ],
      "metadata": {
        "colab": {
          "base_uri": "https://localhost:8080/"
        },
        "id": "-lDhmt4Egye0",
        "outputId": "c8a48c2b-4fe9-4fdd-e65c-a0b6389e3748"
      },
      "execution_count": null,
      "outputs": [
        {
          "output_type": "stream",
          "name": "stdout",
          "text": [
            "tensor([[0.3645],\n",
            "        [0.3712],\n",
            "        [0.3780],\n",
            "        [0.3847],\n",
            "        [0.3914],\n",
            "        [0.3982],\n",
            "        [0.4049],\n",
            "        [0.4116],\n",
            "        [0.4184],\n",
            "        [0.4251],\n",
            "        [0.4318],\n",
            "        [0.4386],\n",
            "        [0.4453],\n",
            "        [0.4520],\n",
            "        [0.4588]])\n"
          ]
        }
      ]
    },
    {
      "cell_type": "code",
      "source": [
        "#check the accuracy\n",
        "plot_predictions(predictions=y_preds)"
      ],
      "metadata": {
        "colab": {
          "base_uri": "https://localhost:8080/",
          "height": 522
        },
        "id": "XFhX6GnuiKd4",
        "outputId": "1a8bf7f3-5e44-4c89-ca7d-527023c1f323"
      },
      "execution_count": null,
      "outputs": [
        {
          "output_type": "display_data",
          "data": {
            "text/plain": [
              "<Figure size 600x600 with 1 Axes>"
            ],
            "image/png": "[encoded data removed]"
          },
          "metadata": {}
        }
      ]
    },
    {
      "cell_type": "markdown",
      "source": [
        "##3. Train a model\n",
        "\n",
        "The main idea for a model is to move from **unknown** parameters (may be random), to some **known** parameters.  \n",
        "\n",
        "Or in other words, to move from a poor representation of the data to a better representation of the data.\n",
        "\n",
        "Onw way to measure to meassure our model performance, is to use a loss function.\n",
        "\n",
        "* Note: Loss function may also be called cost function or criterion, in different areas. For our case, we are going to refer to it as a loss function.\n",
        "\n",
        "* **Loss function:** A function to meausure the quality of your model predictions.\n",
        "\n",
        "* **Optimizer**: Take into account the loss of a model and adjusts the model's parameters (weight & bias). Inside the optimizer we have 2 things to optimize:\n",
        "  \n",
        "  -params: the model parameters\n",
        "\n",
        "  -lr: learning rate\n",
        "\n",
        "  **learning rate scheduling**: starts with a big value, and then make it smaller and smaller.\n",
        "\n",
        "And specifically for Pythorch we need:\n",
        "- training loop\n",
        "- test loop"
      ],
      "metadata": {
        "id": "1yQnZ8NUkecW"
      }
    },
    {
      "cell_type": "code",
      "source": [
        "list(model_0.parameters())"
      ],
      "metadata": {
        "id": "CxUJFST-kzbm",
        "colab": {
          "base_uri": "https://localhost:8080/"
        },
        "outputId": "a5f91a06-70a4-42d2-d35d-79c1e781dcc1"
      },
      "execution_count": null,
      "outputs": [
        {
          "output_type": "execute_result",
          "data": {
            "text/plain": [
              "[Parameter containing:\n",
              " tensor([0.3367], requires_grad=True),\n",
              " Parameter containing:\n",
              " tensor([0.1288], requires_grad=True)]"
            ]
          },
          "metadata": {},
          "execution_count": 13
        }
      ]
    },
    {
      "cell_type": "code",
      "source": [
        "model_0.state_dict()"
      ],
      "metadata": {
        "colab": {
          "base_uri": "https://localhost:8080/"
        },
        "id": "0OKKy6-AKOAy",
        "outputId": "27dcf744-5640-4848-8ea7-63ac6477c5fb"
      },
      "execution_count": null,
      "outputs": [
        {
          "output_type": "execute_result",
          "data": {
            "text/plain": [
              "OrderedDict([('weights', tensor([0.3367])), ('bias', tensor([0.1288]))])"
            ]
          },
          "metadata": {},
          "execution_count": 14
        }
      ]
    },
    {
      "cell_type": "markdown",
      "source": [
        "We are gonna use **L1 loss**, which meassures the mean absolute error between the input X and the output Y. So basically, **MAE**."
      ],
      "metadata": {
        "id": "ZTncrN3kL9ww"
      }
    },
    {
      "cell_type": "code",
      "source": [
        "#set up a loss function\n",
        "loss_fn = nn.L1Loss()\n",
        "\n",
        "#set up an optimizer: optimize our parameters\n",
        "optimizer=torch.optim.SGD(params=model_0.parameters(),\n",
        "                          lr=0.01) #learning rate=0.01 = possibly the most important hyperparameter"
      ],
      "metadata": {
        "id": "dstFZ9RZMV9j"
      },
      "execution_count": null,
      "outputs": []
    },
    {
      "cell_type": "markdown",
      "source": [
        "## Training loop and evaluation loop intuition\n",
        "\n",
        "A couple of things we need in a training loop:\n",
        "0. Loop through the data\n",
        "1. Forward pass (foward()) in our model\n",
        "2. Calculate the loss of the model (compare forward pass predictions to ground thruth labels)\n",
        "3. Optimizer zero grad\n",
        "4. Loss backward -move backward through the network to calculate the gradient of each parameter of the model-. (**backpropagation**)\n",
        "5. Optimizer step  -use the optimizer to adjust our model's parameters to reduce the loss-. (**gradient descent**)"
      ],
      "metadata": {
        "id": "Rxg_C4FMN8KU"
      }
    },
    {
      "cell_type": "code",
      "source": [
        "X_train[:5],y_train[:5]"
      ],
      "metadata": {
        "colab": {
          "base_uri": "https://localhost:8080/"
        },
        "id": "U1tPPDpyLKb9",
        "outputId": "4dd07947-55cb-483f-c9f2-85ea3f0ba058"
      },
      "execution_count": null,
      "outputs": [
        {
          "output_type": "execute_result",
          "data": {
            "text/plain": [
              "(tensor([[0.0000],\n",
              "         [0.0200],\n",
              "         [0.0400],\n",
              "         [0.0600],\n",
              "         [0.0800]]),\n",
              " tensor([[0.3000],\n",
              "         [0.3140],\n",
              "         [0.3280],\n",
              "         [0.3420],\n",
              "         [0.3560]]))"
            ]
          },
          "metadata": {},
          "execution_count": 16
        }
      ]
    },
    {
      "cell_type": "code",
      "source": [
        "# An epoch is one loop through the data... -this is a hyperparameters because we have defined it-\n",
        "epochs = 200\n",
        "\n",
        "#tracking values\n",
        "epoch_count=[]\n",
        "loss_values=[]\n",
        "test_loss_values=[]\n",
        "\n",
        "### Training\n",
        "#0.Loop through the data\n",
        "for epoch in range(epochs):\n",
        "  #set the model to training mode/ model.eval() in the case you want to predict new results\n",
        "  #set the parameters to requiere gradients\n",
        "  model_0.train()\n",
        "  #1.Forward pass\n",
        "  y_pred = model_0(X_train)\n",
        "\n",
        "  #2.Calculate the loss: compare y_pred with y_train\n",
        "  loss = loss_fn(y_pred,y_train)\n",
        "\n",
        "  #3.Optimizer zero grad\n",
        "  optimizer.zero_grad()\n",
        "\n",
        "  #4.Loss backward\n",
        "  loss.backward()\n",
        "\n",
        "  #5.Optimizer step\n",
        "  #by defualt the optimizer changes will accumulate through the loop... we have to zero them above in step 3\n",
        "  optimizer.step()\n",
        "\n",
        "  #check parameters new values\n",
        "  #print(model_0.state_dict())\n",
        "\n",
        "  ###TESTING after finish the training iteration (EPOCH)\n",
        "  model_0.eval() #turns off different settings in the model to not needed for evaluation\n",
        "  with torch.inference_mode(): # turns off gradient tracking\n",
        "    #1.Forward propagation: obtain inference\n",
        "    test_pred=model_0(X_test)\n",
        "\n",
        "    #2.Calculate the loss of the model\n",
        "    test_loss=loss_fn(test_pred,y_test)\n",
        "\n",
        "  if epoch % 10 == 0:\n",
        "    #epoch and loss of the iteration\n",
        "    epoch_count.append(epoch)\n",
        "    loss_values.append(loss)\n",
        "    test_loss_values.append(test_loss)\n",
        "    print(f\"Epoch: {epoch} | Loss: {loss} | Test loss: {test_loss}\")"
      ],
      "metadata": {
        "id": "EB0V-cSnOaHA",
        "colab": {
          "base_uri": "https://localhost:8080/"
        },
        "outputId": "76ff162c-03b7-41c1-a57c-bdcbc4aa9cf2"
      },
      "execution_count": null,
      "outputs": [
        {
          "output_type": "stream",
          "name": "stdout",
          "text": [
            "Epoch: 0 | Loss: 0.29471588134765625 | Test loss: 0.46351468563079834\n",
            "Epoch: 10 | Loss: 0.18315580487251282 | Test loss: 0.3349546492099762\n",
            "Epoch: 20 | Loss: 0.07850800454616547 | Test loss: 0.21224336326122284\n",
            "Epoch: 30 | Loss: 0.04853598028421402 | Test loss: 0.14812307059764862\n",
            "Epoch: 40 | Loss: 0.04299893230199814 | Test loss: 0.1225595772266388\n",
            "Epoch: 50 | Loss: 0.04006887227296829 | Test loss: 0.1108100414276123\n",
            "Epoch: 60 | Loss: 0.03729530796408653 | Test loss: 0.10128359496593475\n",
            "Epoch: 70 | Loss: 0.034567978233098984 | Test loss: 0.09398991614580154\n",
            "Epoch: 80 | Loss: 0.03183940425515175 | Test loss: 0.0866963192820549\n",
            "Epoch: 90 | Loss: 0.029115844517946243 | Test loss: 0.07865851372480392\n",
            "Epoch: 100 | Loss: 0.026395238935947418 | Test loss: 0.07136490941047668\n",
            "Epoch: 110 | Loss: 0.023672932758927345 | Test loss: 0.06407131999731064\n",
            "Epoch: 120 | Loss: 0.020944364368915558 | Test loss: 0.05677773430943489\n",
            "Epoch: 130 | Loss: 0.018215805292129517 | Test loss: 0.048739925026893616\n",
            "Epoch: 140 | Loss: 0.01549520157277584 | Test loss: 0.04144632816314697\n",
            "Epoch: 150 | Loss: 0.012774603441357613 | Test loss: 0.034152738749980927\n",
            "Epoch: 160 | Loss: 0.010049331933259964 | Test loss: 0.02685915306210518\n",
            "Epoch: 170 | Loss: 0.007320757489651442 | Test loss: 0.019565558061003685\n",
            "Epoch: 180 | Loss: 0.004595165606588125 | Test loss: 0.011527741327881813\n",
            "Epoch: 190 | Loss: 0.0018745660781860352 | Test loss: 0.004234150983393192\n"
          ]
        }
      ]
    },
    {
      "cell_type": "code",
      "source": [
        "#In order to check the status of the parameters!!\n",
        "model_0.state_dict()"
      ],
      "metadata": {
        "colab": {
          "base_uri": "https://localhost:8080/"
        },
        "id": "J19pOa2U5LUN",
        "outputId": "733d3cdf-7b0d-4eb3-cd85-08b3c896c60c"
      },
      "execution_count": null,
      "outputs": [
        {
          "output_type": "execute_result",
          "data": {
            "text/plain": [
              "OrderedDict([('weights', tensor([0.6942])), ('bias', tensor([0.2985]))])"
            ]
          },
          "metadata": {},
          "execution_count": 18
        }
      ]
    },
    {
      "cell_type": "markdown",
      "source": [
        "After 100 epochs, we obtained a trained loss of 0.07!!"
      ],
      "metadata": {
        "id": "JnXXJRay4iFH"
      }
    },
    {
      "cell_type": "markdown",
      "source": [
        "**Notice**: the real params are --> weight 0.7, bias=0.3"
      ],
      "metadata": {
        "id": "xCG8nd5o9LhA"
      }
    },
    {
      "cell_type": "code",
      "source": [
        "with torch.inference_mode(): #context manager:remove gradient tracking --> y_preds=model_0(X_test) --> track gradient, so its slower\n",
        "  y_preds=model_0(X_test)\n",
        "\n",
        "plot_predictions(predictions=y_preds)"
      ],
      "metadata": {
        "colab": {
          "base_uri": "https://localhost:8080/",
          "height": 522
        },
        "id": "gVHPGx3O9Sqq",
        "outputId": "aa4d7334-e409-4957-de96-a71559669f71"
      },
      "execution_count": null,
      "outputs": [
        {
          "output_type": "display_data",
          "data": {
            "text/plain": [
              "<Figure size 600x600 with 1 Axes>"
            ],
            "image/png": "[encoded data removed]"
          },
          "metadata": {}
        }
      ]
    },
    {
      "cell_type": "markdown",
      "source": [
        "**IMPORTANT**\n",
        "\n",
        "When you call **loss.backward()**, PyTorch computes the gradient of the loss function (loss) with respect to all tensors that have requires_grad=True.\n",
        "These gradients are essentially the partial derivatives of the loss with respect to each parameter of the model. They indicate the direction and magnitude of change needed in each parameter to decrease the loss.\n",
        "\n",
        "So basically, that parameters are already being tracked in the Pythorch computational graph."
      ],
      "metadata": {
        "id": "3B5tmxRYNz5l"
      }
    },
    {
      "cell_type": "markdown",
      "source": [
        "### Print loss curves"
      ],
      "metadata": {
        "id": "W9GC95uWQ__I"
      }
    },
    {
      "cell_type": "code",
      "source": [
        "#to use plot function, we have to convert the values to numpy arrays\n",
        "loss_values = torch.tensor(loss_values).numpy()\n",
        "test_loss_values = torch.tensor(test_loss_values).numpy()"
      ],
      "metadata": {
        "id": "lUPUNg3x69cK"
      },
      "execution_count": null,
      "outputs": []
    },
    {
      "cell_type": "code",
      "source": [
        "#plot loss curve\n",
        "plt.plot(epoch_count,loss_values,label=\"Train loss\")\n",
        "#plot test loss curve\n",
        "plt.plot(epoch_count,test_loss_values,label=\"Test loss\")\n",
        "plt.title(\"Training and test loss curves\")\n",
        "plt.ylabel(\"Loss\")\n",
        "plt.xlabel(\"Epochs\")\n",
        "plt.legend()"
      ],
      "metadata": {
        "colab": {
          "base_uri": "https://localhost:8080/",
          "height": 489
        },
        "id": "uZ7O6gsf6fC9",
        "outputId": "29e3fb6f-fc77-40d3-cc29-f0d9a6ef78fc"
      },
      "execution_count": null,
      "outputs": [
        {
          "output_type": "execute_result",
          "data": {
            "text/plain": [
              "<matplotlib.legend.Legend at 0x7d73b8f7ecb0>"
            ]
          },
          "metadata": {},
          "execution_count": 21
        },
        {
          "output_type": "display_data",
          "data": {
            "text/plain": [
              "<Figure size 640x480 with 1 Axes>"
            ],
            "image/png": "[encoded data removed]"
          },
          "metadata": {}
        }
      ]
    },
    {
      "cell_type": "markdown",
      "source": [
        "### Save the model\n",
        "\n",
        "In order to not re-run everything, and save the trained model it's very important to save the model!\n",
        "\n",
        "There are 3 models to save/load models in Python.\n",
        "\n",
        "**1**. 'torch.save()': save as a serialized object -pickle format-\n",
        "\n",
        "**2.** torch.load: allows you to load the saved Pythorch object -deserialized saved object-.\n",
        "\n",
        "**3.** torch.nn.Module.load_state_dict(): this allows to load a model's saved state dictionary."
      ],
      "metadata": {
        "id": "aYrfg7hEA4uQ"
      }
    },
    {
      "cell_type": "code",
      "source": [
        "model_0.state_dict() #our model has 2 parameters"
      ],
      "metadata": {
        "colab": {
          "base_uri": "https://localhost:8080/"
        },
        "id": "6cTwn0D2BrWj",
        "outputId": "808f2e23-7584-4252-b8d4-f43b21caaf11"
      },
      "execution_count": null,
      "outputs": [
        {
          "output_type": "execute_result",
          "data": {
            "text/plain": [
              "OrderedDict([('weights', tensor([0.6942])), ('bias', tensor([0.2985]))])"
            ]
          },
          "metadata": {},
          "execution_count": 22
        }
      ]
    },
    {
      "cell_type": "code",
      "source": [
        "#saving our pythorch model\n",
        "from pathlib import Path\n",
        "\n",
        "#1.Create models directory\n",
        "model_path = Path(\"models\")\n",
        "model_path.mkdir(parents=True,exist_ok=True)\n",
        "\n",
        "#2.Create model save: extension --> .pth\n",
        "model_name = 'linear_regresion.pth'\n",
        "model_save_path = model_path/model_name\n",
        "\n",
        "#3.Save the model state dict\n",
        "print(f'SAVING THE MODEL: {model_save_path}')\n",
        "#TORCH.SAVE()\n",
        "torch.save(obj=model_0.state_dict(),\n",
        "           f=model_save_path)\n"
      ],
      "metadata": {
        "id": "3QrValKvCXrJ",
        "colab": {
          "base_uri": "https://localhost:8080/"
        },
        "outputId": "73906214-ebff-4969-9422-a119c66e8ab6"
      },
      "execution_count": null,
      "outputs": [
        {
          "output_type": "stream",
          "name": "stdout",
          "text": [
            "SAVING THE MODEL: models/linear_regresion.pth\n"
          ]
        }
      ]
    },
    {
      "cell_type": "code",
      "source": [
        "model_save_path"
      ],
      "metadata": {
        "colab": {
          "base_uri": "https://localhost:8080/"
        },
        "id": "uj_bk3W1Dq17",
        "outputId": "2b26fc18-5dfd-48d1-a2ec-9d437ce188c2"
      },
      "execution_count": null,
      "outputs": [
        {
          "output_type": "execute_result",
          "data": {
            "text/plain": [
              "PosixPath('models/linear_regresion.pth')"
            ]
          },
          "metadata": {},
          "execution_count": 24
        }
      ]
    },
    {
      "cell_type": "markdown",
      "source": [
        "## Load the model\n",
        "\n",
        "In other words, load the model's weight.\n",
        "\n",
        "Basically, we are going to create a new instance of the model, and load the saved 'state_dict()'"
      ],
      "metadata": {
        "id": "enOZd-NvD5qW"
      }
    },
    {
      "cell_type": "code",
      "source": [
        "!ls -l models"
      ],
      "metadata": {
        "colab": {
          "base_uri": "https://localhost:8080/"
        },
        "id": "ugPY1J7sESUs",
        "outputId": "ced1f6e8-7933-4bc4-dd4f-d546514e8687"
      },
      "execution_count": null,
      "outputs": [
        {
          "output_type": "stream",
          "name": "stdout",
          "text": [
            "total 4\n",
            "-rw-r--r-- 1 root root 1550 Jul 12 13:51 linear_regresion.pth\n"
          ]
        }
      ]
    },
    {
      "cell_type": "code",
      "source": [
        "#Create a new instance of the model\n",
        "loaded_model_0=LinearRegressionModel()\n",
        "\n",
        "#Load the saved state_dict(): load the trained weights in the model\n",
        "model_save_path=model_save_path\n",
        "loaded_model_0.load_state_dict(torch.load(f=model_save_path))"
      ],
      "metadata": {
        "colab": {
          "base_uri": "https://localhost:8080/"
        },
        "id": "-d4pR1xVEvuf",
        "outputId": "796ad916-1a1e-4ec5-863b-c6d682409f0e"
      },
      "execution_count": null,
      "outputs": [
        {
          "output_type": "execute_result",
          "data": {
            "text/plain": [
              "<All keys matched successfully>"
            ]
          },
          "metadata": {},
          "execution_count": 26
        }
      ]
    },
    {
      "cell_type": "code",
      "source": [
        "loaded_model_0.state_dict()"
      ],
      "metadata": {
        "colab": {
          "base_uri": "https://localhost:8080/"
        },
        "id": "PITjuOJuFvFW",
        "outputId": "32a2a88d-7186-41fd-aded-5e1f2dc709f4"
      },
      "execution_count": null,
      "outputs": [
        {
          "output_type": "execute_result",
          "data": {
            "text/plain": [
              "OrderedDict([('weights', tensor([0.6942])), ('bias', tensor([0.2985]))])"
            ]
          },
          "metadata": {},
          "execution_count": 27
        }
      ]
    },
    {
      "cell_type": "code",
      "source": [
        "#Make some predictions with our loaded model\n",
        "loaded_model_0.eval() #define evaluation mode, since we are not training the model\n",
        "with torch.inference_mode():\n",
        "  loaded_model_preds=loaded_model_0(X_test)\n",
        "\n",
        "loaded_model_preds"
      ],
      "metadata": {
        "colab": {
          "base_uri": "https://localhost:8080/"
        },
        "id": "2ikqHBtfF2uT",
        "outputId": "ebf1ca3f-7299-49b3-e520-7abf311cf760"
      },
      "execution_count": null,
      "outputs": [
        {
          "output_type": "execute_result",
          "data": {
            "text/plain": [
              "tensor([[0.7845],\n",
              "        [0.7983],\n",
              "        [0.8122],\n",
              "        [0.8261],\n",
              "        [0.8400],\n",
              "        [0.8539],\n",
              "        [0.8678],\n",
              "        [0.8816],\n",
              "        [0.8955],\n",
              "        [0.9094],\n",
              "        [0.9233],\n",
              "        [0.9372],\n",
              "        [0.9511],\n",
              "        [0.9650],\n",
              "        [0.9788]])"
            ]
          },
          "metadata": {},
          "execution_count": 28
        }
      ]
    },
    {
      "cell_type": "code",
      "source": [
        "#compare load model, and the previous model results\n",
        "y_preds == loaded_model_preds"
      ],
      "metadata": {
        "colab": {
          "base_uri": "https://localhost:8080/"
        },
        "id": "xMI6DSj5GEuF",
        "outputId": "7a1ee960-288e-4e00-f69c-9b067869a874"
      },
      "execution_count": null,
      "outputs": [
        {
          "output_type": "execute_result",
          "data": {
            "text/plain": [
              "tensor([[True],\n",
              "        [True],\n",
              "        [True],\n",
              "        [True],\n",
              "        [True],\n",
              "        [True],\n",
              "        [True],\n",
              "        [True],\n",
              "        [True],\n",
              "        [True],\n",
              "        [True],\n",
              "        [True],\n",
              "        [True],\n",
              "        [True],\n",
              "        [True]])"
            ]
          },
          "metadata": {},
          "execution_count": 29
        }
      ]
    },
    {
      "cell_type": "markdown",
      "source": [
        "## Putting it all together\n",
        "\n",
        "Let's go back and see it all in one place."
      ],
      "metadata": {
        "id": "0-3w-U1_Gzv9"
      }
    },
    {
      "cell_type": "code",
      "source": [
        "# Import pythorch and matplotlib\n",
        "import torch\n",
        "from torch import nn\n",
        "import matplotlib.pyplot as plt\n",
        "\n",
        "# Check pythorch version\n",
        "torch.__version__"
      ],
      "metadata": {
        "colab": {
          "base_uri": "https://localhost:8080/",
          "height": 35
        },
        "id": "ngByAgbHG9Oa",
        "outputId": "d0711d4c-c389-4531-ce47-6304ae289c89"
      },
      "execution_count": null,
      "outputs": [
        {
          "output_type": "execute_result",
          "data": {
            "text/plain": [
              "'2.3.0+cu121'"
            ],
            "application/vnd.google.colaboratory.intrinsic+json": {
              "type": "string"
            }
          },
          "metadata": {},
          "execution_count": 30
        }
      ]
    },
    {
      "cell_type": "markdown",
      "source": [
        "Creaete device-agnostic code.\n",
        "\n",
        "This means, if we have got access to a GPU, our code will use it (for potentially faster computing).\n",
        "\n",
        "If no GPU is available, the code will be running on the CPU.\n"
      ],
      "metadata": {
        "id": "cLiZJ2t6HZaO"
      }
    },
    {
      "cell_type": "code",
      "source": [
        "#set-up device agnostic code\n",
        "device = \"cuda\" if torch.cuda.is_available() else \"cpu\"\n",
        "print(f'Using device: {device}')"
      ],
      "metadata": {
        "colab": {
          "base_uri": "https://localhost:8080/"
        },
        "id": "dSvTLPrWHsT5",
        "outputId": "3fcc2292-6bd7-4739-d0ac-285e037ca43b"
      },
      "execution_count": null,
      "outputs": [
        {
          "output_type": "stream",
          "name": "stdout",
          "text": [
            "Using device: cuda\n"
          ]
        }
      ]
    },
    {
      "cell_type": "markdown",
      "source": [
        "# Create some data using linear regression"
      ],
      "metadata": {
        "id": "6f9-GLQ0hVRG"
      }
    },
    {
      "cell_type": "code",
      "source": [
        "#define parameters\n",
        "weight = 0.7\n",
        "bias = 0.3\n",
        "\n",
        "#create a range of values\n",
        "start = 0\n",
        "end = 1\n",
        "step = 0.02\n",
        "\n",
        "#create a tensor of random values\n",
        "X = torch.arange(start,end,step).unsqueeze(dim=1)\n",
        "y = weight*X + bias\n",
        "X[:5],y[:5]\n"
      ],
      "metadata": {
        "colab": {
          "base_uri": "https://localhost:8080/"
        },
        "id": "Kqq2uXDKher3",
        "outputId": "62adbd56-fb1a-4908-bdc5-f3f40a6fe29b"
      },
      "execution_count": null,
      "outputs": [
        {
          "output_type": "execute_result",
          "data": {
            "text/plain": [
              "(tensor([[0.0000],\n",
              "         [0.0200],\n",
              "         [0.0400],\n",
              "         [0.0600],\n",
              "         [0.0800]]),\n",
              " tensor([[0.3000],\n",
              "         [0.3140],\n",
              "         [0.3280],\n",
              "         [0.3420],\n",
              "         [0.3560]]))"
            ]
          },
          "metadata": {},
          "execution_count": 32
        }
      ]
    },
    {
      "cell_type": "code",
      "source": [
        "# Split the data\n",
        "train_split = int(0.8*len(X))\n",
        "X_train,y_train = X[:train_split],y[:train_split]\n",
        "X_test,y_test = X[train_split:],y[train_split:]"
      ],
      "metadata": {
        "id": "0F5nqH6eiQuG"
      },
      "execution_count": null,
      "outputs": []
    },
    {
      "cell_type": "markdown",
      "source": [
        "# Building the linear model!!"
      ],
      "metadata": {
        "id": "-22QE0ddibcs"
      }
    },
    {
      "cell_type": "code",
      "source": [
        "# Create a linear model by subclassing nn.Module\n",
        "class LinearRegressionModelV2(nn.Module):\n",
        "\n",
        "  def __init__(self):\n",
        "    super().__init__()\n",
        "    #sometimes there are layers with that parameters already to be used --> use nn.Linear\n",
        "    #in this case: input_values = 1 , output_values=1 --> linear layer implements linear regression formula\n",
        "    self.linear_layer = nn.Linear(in_features=1,\n",
        "                                  out_features=1)\n",
        "\n",
        "  def forward(self,x: torch.Tensor) -> torch.Tensor:\n",
        "    return self.linear_layer(x)\n",
        "\n",
        "#Set the manual seed for reproducibility\n",
        "torch.manual_seed(42)\n",
        "model_1 = LinearRegressionModelV2()\n",
        "model_1,model_1.state_dict()"
      ],
      "metadata": {
        "colab": {
          "base_uri": "https://localhost:8080/"
        },
        "id": "rZriWoo_ifJk",
        "outputId": "d2a4be09-8b62-4bb1-c11f-be09d6b27594"
      },
      "execution_count": null,
      "outputs": [
        {
          "output_type": "execute_result",
          "data": {
            "text/plain": [
              "(LinearRegressionModelV2(\n",
              "   (linear_layer): Linear(in_features=1, out_features=1, bias=True)\n",
              " ),\n",
              " OrderedDict([('linear_layer.weight', tensor([[0.7645]])),\n",
              "              ('linear_layer.bias', tensor([0.8300]))]))"
            ]
          },
          "metadata": {},
          "execution_count": 34
        }
      ]
    },
    {
      "cell_type": "markdown",
      "source": [
        "We can see that there are **parameters** that were initialized by default using the torch layer!!"
      ],
      "metadata": {
        "id": "mFEtXKn8j9go"
      }
    },
    {
      "cell_type": "code",
      "source": [
        "#Check the model current device\n",
        "next(model_1.parameters()).device"
      ],
      "metadata": {
        "colab": {
          "base_uri": "https://localhost:8080/"
        },
        "id": "LZ73mFTFzx5N",
        "outputId": "0ab51461-4742-488d-beee-6b911de41c8f"
      },
      "execution_count": null,
      "outputs": [
        {
          "output_type": "execute_result",
          "data": {
            "text/plain": [
              "device(type='cpu')"
            ]
          },
          "metadata": {},
          "execution_count": 35
        }
      ]
    },
    {
      "cell_type": "code",
      "source": [
        "#set the model to run on the gpu\n",
        "model_1.to(device)\n",
        "next(model_1.parameters()).device"
      ],
      "metadata": {
        "colab": {
          "base_uri": "https://localhost:8080/"
        },
        "id": "FFflSRhbzyP4",
        "outputId": "611cf8d8-d6f9-4ac1-cdc5-1e29b4699644"
      },
      "execution_count": null,
      "outputs": [
        {
          "output_type": "execute_result",
          "data": {
            "text/plain": [
              "device(type='cuda', index=0)"
            ]
          },
          "metadata": {},
          "execution_count": 36
        }
      ]
    },
    {
      "cell_type": "markdown",
      "source": [
        "# Train the created model\n",
        "\n",
        "For training we need:\n",
        "* Loss function\n",
        "* Optimizer\n",
        "* Training loop\n",
        "* Test loop"
      ],
      "metadata": {
        "id": "CKDc2Bv_kvZN"
      }
    },
    {
      "cell_type": "code",
      "source": [
        "#set up loss function\n",
        "loss_fn = nn.L1Loss()\n",
        "\n",
        "#set up optimizer\n",
        "optimizer = torch.optim.SGD(params=model_1.parameters(),\n",
        "                            lr=0.01)"
      ],
      "metadata": {
        "id": "29qteU0TzvNg"
      },
      "execution_count": null,
      "outputs": []
    },
    {
      "cell_type": "code",
      "source": [
        "#put data on the target device\n",
        "X_train,y_train = X_train.to(device),y_train.to(device)\n",
        "X_test,y_test = X_test.to(device),y_test.to(device)"
      ],
      "metadata": {
        "id": "GzPMtOPV10UA"
      },
      "execution_count": null,
      "outputs": []
    },
    {
      "cell_type": "code",
      "source": [
        "#define the training loop\n",
        "torch.manual_seed(42)\n",
        "\n",
        "epochs = 200\n",
        "\n",
        "for epoch in range(epochs):\n",
        "\n",
        "  #----------------------train loop--------------\n",
        "  model_1.train()\n",
        "\n",
        "  #1.forward pass\n",
        "  y_pred = model_1(X_train)\n",
        "\n",
        "  #2.calculate the loss of the model\n",
        "  train_loss = loss_fn(y_pred,y_train)\n",
        "\n",
        "  #3.optimizer zero grad\n",
        "  optimizer.zero_grad()\n",
        "\n",
        "  #4.loss backward\n",
        "  train_loss.backward()\n",
        "\n",
        "  #5.optimizer step\n",
        "  optimizer.step()\n",
        "\n",
        "  #-----------------test loop-------------------\n",
        "  model_1.eval()\n",
        "  with torch.inference_mode():\n",
        "    test_pred = model_1(X_test)\n",
        "    test_loss = loss_fn(test_pred,y_test)\n",
        "\n",
        "  if epoch % 10 == 0:\n",
        "    print(f'Epoch: {epoch} | Train loss: {train_loss} | Test loss: {test_loss}')\n",
        "\n"
      ],
      "metadata": {
        "colab": {
          "base_uri": "https://localhost:8080/"
        },
        "id": "B_j_cv240Eon",
        "outputId": "b346b674-b653-4236-b1df-467b836ba320"
      },
      "execution_count": null,
      "outputs": [
        {
          "output_type": "stream",
          "name": "stdout",
          "text": [
            "Epoch: 0 | Train loss: 0.5551779866218567 | Test loss: 0.5739762187004089\n",
            "Epoch: 10 | Train loss: 0.439968079328537 | Test loss: 0.4392664134502411\n",
            "Epoch: 20 | Train loss: 0.3247582018375397 | Test loss: 0.30455657839775085\n",
            "Epoch: 30 | Train loss: 0.20954833924770355 | Test loss: 0.16984669864177704\n",
            "Epoch: 40 | Train loss: 0.09433845430612564 | Test loss: 0.03513690456748009\n",
            "Epoch: 50 | Train loss: 0.023886388167738914 | Test loss: 0.04784907028079033\n",
            "Epoch: 60 | Train loss: 0.019956795498728752 | Test loss: 0.045803118497133255\n",
            "Epoch: 70 | Train loss: 0.016517987474799156 | Test loss: 0.037530567497015\n",
            "Epoch: 80 | Train loss: 0.013089174404740334 | Test loss: 0.02994490973651409\n",
            "Epoch: 90 | Train loss: 0.009653178043663502 | Test loss: 0.02167237363755703\n",
            "Epoch: 100 | Train loss: 0.006215683650225401 | Test loss: 0.014086711220443249\n",
            "Epoch: 110 | Train loss: 0.00278724217787385 | Test loss: 0.005814164876937866\n",
            "Epoch: 120 | Train loss: 0.0012645035749301314 | Test loss: 0.013801801018416882\n",
            "Epoch: 130 | Train loss: 0.0012645035749301314 | Test loss: 0.013801801018416882\n",
            "Epoch: 140 | Train loss: 0.0012645035749301314 | Test loss: 0.013801801018416882\n",
            "Epoch: 150 | Train loss: 0.0012645035749301314 | Test loss: 0.013801801018416882\n",
            "Epoch: 160 | Train loss: 0.0012645035749301314 | Test loss: 0.013801801018416882\n",
            "Epoch: 170 | Train loss: 0.0012645035749301314 | Test loss: 0.013801801018416882\n",
            "Epoch: 180 | Train loss: 0.0012645035749301314 | Test loss: 0.013801801018416882\n",
            "Epoch: 190 | Train loss: 0.0012645035749301314 | Test loss: 0.013801801018416882\n"
          ]
        }
      ]
    },
    {
      "cell_type": "code",
      "source": [
        "model_1.state_dict()"
      ],
      "metadata": {
        "colab": {
          "base_uri": "https://localhost:8080/"
        },
        "id": "_39opUsj3a83",
        "outputId": "e8e3fe30-70e9-472d-b214-09e2af5ecb5a"
      },
      "execution_count": null,
      "outputs": [
        {
          "output_type": "execute_result",
          "data": {
            "text/plain": [
              "OrderedDict([('linear_layer.weight', tensor([[0.6968]], device='cuda:0')),\n",
              "             ('linear_layer.bias', tensor([0.3025], device='cuda:0'))])"
            ]
          },
          "metadata": {},
          "execution_count": 40
        }
      ]
    },
    {
      "cell_type": "markdown",
      "source": [
        "Our defined values were: 0.7 and 0.3 !!"
      ],
      "metadata": {
        "id": "kPkQ5KXO3jOl"
      }
    },
    {
      "cell_type": "markdown",
      "source": [
        "### Making and evaluating predictions"
      ],
      "metadata": {
        "id": "EK2Fd03M4Dud"
      }
    },
    {
      "cell_type": "code",
      "source": [
        "#put the model in evaluation mode\n",
        "model_1.eval()\n",
        "\n",
        "#put the model in inference mode\n",
        "with torch.inference_mode():\n",
        "  y_preds = model_1(X_test)"
      ],
      "metadata": {
        "id": "seYCFMWH4CqI"
      },
      "execution_count": null,
      "outputs": []
    },
    {
      "cell_type": "code",
      "source": [
        "#check the model predictions visually\n",
        "plot_predictions()"
      ],
      "metadata": {
        "id": "lpen56no4Phl",
        "outputId": "33aa04ee-b271-4e80-b842-849d47912e83",
        "colab": {
          "base_uri": "https://localhost:8080/",
          "height": 522
        }
      },
      "execution_count": null,
      "outputs": [
        {
          "output_type": "display_data",
          "data": {
            "text/plain": [
              "<Figure size 600x600 with 1 Axes>"
            ],
            "image/png": "[encoded data removed]"
          },
          "metadata": {}
        }
      ]
    },
    {
      "cell_type": "markdown",
      "source": [
        "### Saving and loading the model"
      ],
      "metadata": {
        "id": "8pqay0tdNbdS"
      }
    },
    {
      "cell_type": "code",
      "source": [
        "from pathlib import Path\n",
        "\n",
        "#1. Create model directorie\n",
        "MODEL_PATH=Path(\"models\")\n",
        "MODEL_PATH.mkdir(parents=True,exist_ok=True)\n",
        "\n",
        "#2. Create model save path\n",
        "MODEL_NAME = \"pythorch_model_v2.pth\"\n",
        "MODEL_SAVE_PATH = MODEL_PATH / MODEL_NAME\n",
        "\n",
        "#3. Save the model state dict\n",
        "torch.save(obj=model_1.state_dict(),\n",
        "           f=MODEL_SAVE_PATH)"
      ],
      "metadata": {
        "id": "P0bRo5x4CGgq"
      },
      "execution_count": null,
      "outputs": []
    },
    {
      "cell_type": "code",
      "source": [
        "model_1.state_dict()"
      ],
      "metadata": {
        "colab": {
          "base_uri": "https://localhost:8080/"
        },
        "id": "XvHtkuHpQA-T",
        "outputId": "d82b5cbb-60b3-4367-e035-8eb7904c4dba"
      },
      "execution_count": null,
      "outputs": [
        {
          "output_type": "execute_result",
          "data": {
            "text/plain": [
              "OrderedDict([('linear_layer.weight', tensor([[0.6968]], device='cuda:0')),\n",
              "             ('linear_layer.bias', tensor([0.3025], device='cuda:0'))])"
            ]
          },
          "metadata": {},
          "execution_count": 45
        }
      ]
    },
    {
      "cell_type": "code",
      "source": [
        "#Load a PyTorch model\n",
        "loaded_model_1 = LinearRegressionModelV2()\n",
        "loaded_model_1.load_state_dict(torch.load(f=MODEL_SAVE_PATH))"
      ],
      "metadata": {
        "colab": {
          "base_uri": "https://localhost:8080/"
        },
        "id": "OpFlwDBfQ21a",
        "outputId": "8cbf8bfa-0fe1-4f99-d255-f8bfd765a91a"
      },
      "execution_count": null,
      "outputs": [
        {
          "output_type": "execute_result",
          "data": {
            "text/plain": [
              "<All keys matched successfully>"
            ]
          },
          "metadata": {},
          "execution_count": 46
        }
      ]
    },
    {
      "cell_type": "code",
      "source": [
        "loaded_model_1.state_dict()"
      ],
      "metadata": {
        "colab": {
          "base_uri": "https://localhost:8080/"
        },
        "id": "09OdDHHIRWoB",
        "outputId": "f12a228f-4219-4211-81e4-314cfeb00c56"
      },
      "execution_count": null,
      "outputs": [
        {
          "output_type": "execute_result",
          "data": {
            "text/plain": [
              "OrderedDict([('linear_layer.weight', tensor([[0.6968]])),\n",
              "             ('linear_layer.bias', tensor([0.3025]))])"
            ]
          },
          "metadata": {},
          "execution_count": 47
        }
      ]
    },
    {
      "cell_type": "code",
      "source": [
        "loaded_model_1.to(device)\n",
        "next(loaded_model_1.parameters()).device"
      ],
      "metadata": {
        "colab": {
          "base_uri": "https://localhost:8080/"
        },
        "id": "sNnVLqeKRsWB",
        "outputId": "76c0f39f-1f9f-4811-a873-f72147614157"
      },
      "execution_count": null,
      "outputs": [
        {
          "output_type": "execute_result",
          "data": {
            "text/plain": [
              "device(type='cuda', index=0)"
            ]
          },
          "metadata": {},
          "execution_count": 49
        }
      ]
    },
    {
      "cell_type": "code",
      "source": [
        "#Evaluate the loaded model\n",
        "loaded_model_1.eval()\n",
        "with torch.inference_mode():\n",
        "  loaded_model_1_preds = loaded_model_1(X_test)"
      ],
      "metadata": {
        "id": "j3pdUa-iR5b_"
      },
      "execution_count": null,
      "outputs": []
    },
    {
      "cell_type": "code",
      "source": [
        "y_preds == loaded_model_1_preds"
      ],
      "metadata": {
        "id": "AkNGkxLQR-LG",
        "outputId": "d311ff62-2912-42da-832b-cd038f697816",
        "colab": {
          "base_uri": "https://localhost:8080/"
        }
      },
      "execution_count": null,
      "outputs": [
        {
          "output_type": "execute_result",
          "data": {
            "text/plain": [
              "tensor([[True],\n",
              "        [True],\n",
              "        [True],\n",
              "        [True],\n",
              "        [True],\n",
              "        [True],\n",
              "        [True],\n",
              "        [True],\n",
              "        [True],\n",
              "        [True]], device='cuda:0')"
            ]
          },
          "metadata": {},
          "execution_count": 51
        }
      ]
    }
  ]
}